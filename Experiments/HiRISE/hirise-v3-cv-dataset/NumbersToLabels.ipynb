{
 "cells": [
  {
   "cell_type": "markdown",
   "id": "cfdee686",
   "metadata": {},
   "source": [
    "## This notebook converts the numeric class labels to text class labels"
   ]
  },
  {
   "cell_type": "code",
   "execution_count": 12,
   "id": "920652f4",
   "metadata": {},
   "outputs": [],
   "source": [
    "import csv\n",
    "\n",
    "label_file = \"labels-map-proj-v3.txt\"\n",
    "label_out_file = \"hirise-text-labels-3class.txt\"\n",
    "class_map_file = \"landmarks_map-proj-v3_classmap.csv\""
   ]
  },
  {
   "cell_type": "code",
   "execution_count": 13,
   "id": "b05f7ce6",
   "metadata": {},
   "outputs": [
    {
     "name": "stdout",
     "output_type": "stream",
     "text": [
      "{'0': 'other', '1': 'crater', '2': 'dark_dune', '3': 'slope_streak', '4': 'bright_dune', '5': 'impact_ejecta', '6': 'swiss_cheese', '7': 'spider'}\n"
     ]
    }
   ],
   "source": [
    "# create the class label dictionary\n",
    "labels = {}\n",
    "\n",
    "with open(class_map_file, newline='') as csvfile:\n",
    "    label_reader = csv.reader(csvfile, delimiter=',')\n",
    "    for row in label_reader:\n",
    "        labels[row[0]] = row[1].replace(\" \", \"_\")\n",
    "print(labels)"
   ]
  },
  {
   "cell_type": "code",
   "execution_count": 14,
   "id": "a36b18a4",
   "metadata": {},
   "outputs": [],
   "source": [
    "# read in label rows\n",
    "label_list = []\n",
    "\n",
    "with open(label_file) as csvfile:\n",
    "    label_reader = csv.reader(csvfile, delimiter=' ')\n",
    "    for row in label_reader:\n",
    "        if row[1] == \"label\":\n",
    "            continue\n",
    "        label_list.append([row[0], row[1]])"
   ]
  },
  {
   "cell_type": "code",
   "execution_count": 15,
   "id": "59f33f51",
   "metadata": {},
   "outputs": [],
   "source": [
    "for row in label_list:\n",
    "    row[1] = labels[row[1]]"
   ]
  },
  {
   "cell_type": "code",
   "execution_count": 16,
   "id": "a4d9e4bb",
   "metadata": {
    "scrolled": true
   },
   "outputs": [
    {
     "name": "stdout",
     "output_type": "stream",
     "text": [
      "[['ESP_011623_2100_RED-0069-r90.jpg', 'other'], ['ESP_011623_2100_RED-0069-r180.jpg', 'other'], ['ESP_011623_2100_RED-0069-r270.jpg', 'other'], ['ESP_011623_2100_RED-0069-fh.jpg', 'other'], ['ESP_011623_2100_RED-0069-fv.jpg', 'other'], ['ESP_011623_2100_RED-0069-brt.jpg', 'other'], ['ESP_014156_1865_RED-0062.jpg', 'other'], ['ESP_014156_1865_RED-0062-r90.jpg', 'other'], ['ESP_014156_1865_RED-0062-r180.jpg', 'other']]\n"
     ]
    }
   ],
   "source": [
    "print(label_list[1:10])"
   ]
  },
  {
   "cell_type": "code",
   "execution_count": 21,
   "id": "fb7b8de0",
   "metadata": {},
   "outputs": [
    {
     "name": "stdout",
     "output_type": "stream",
     "text": [
      "5229\n"
     ]
    }
   ],
   "source": [
    "# run this cell to include only bright_dune, slope_streak and swiss_cheese\n",
    "inc_classes = [\"bright_dune\", \"slope_streak\", \"swiss_cheese\"]\n",
    "smaller_label_list = []\n",
    "\n",
    "for row in label_list:\n",
    "    if row[1] in inc_classes:\n",
    "        smaller_label_list.append(row)\n",
    "print(len(smaller_label_list))\n",
    "\n",
    "with open(label_out_file, 'w') as f:\n",
    "    for row in smaller_label_list:\n",
    "        f.write(row[0] + \" \" + row[1] + \"\\n\")"
   ]
  },
  {
   "cell_type": "code",
   "execution_count": null,
   "id": "7a4b42b4",
   "metadata": {},
   "outputs": [],
   "source": [
    "with open(label_out_file, 'w') as f:\n",
    "    for row in label_list:\n",
    "        f.write(row[0] + \" \" + row[1])"
   ]
  }
 ],
 "metadata": {
  "kernelspec": {
   "display_name": "Python 3 (ipykernel)",
   "language": "python",
   "name": "python3"
  },
  "language_info": {
   "codemirror_mode": {
    "name": "ipython",
    "version": 3
   },
   "file_extension": ".py",
   "mimetype": "text/x-python",
   "name": "python",
   "nbconvert_exporter": "python",
   "pygments_lexer": "ipython3",
   "version": "3.10.12"
  }
 },
 "nbformat": 4,
 "nbformat_minor": 5
}
