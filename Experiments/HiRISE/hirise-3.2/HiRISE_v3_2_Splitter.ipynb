{
 "cells": [
  {
   "cell_type": "markdown",
   "id": "ba5d61a3",
   "metadata": {},
   "source": [
    "# HiRISE v3.2 Splitter\n",
    "This notebook splits the HiRISE dataset into folders for the Keras image generators in the model."
   ]
  },
  {
   "cell_type": "code",
   "execution_count": 40,
   "id": "0d3cd10d",
   "metadata": {},
   "outputs": [],
   "source": [
    "import csv\n",
    "import os\n",
    "import shutil\n",
    "\n",
    "# directories\n",
    "img_dir = \"map-proj-v3_2\"\n",
    "labels_file = \"labels-map-proj_v3_2_train_val_test.txt\"\n",
    "class_names_file = \"landmarks_map-proj-v3_2_classmap.csv\"\n",
    "\n",
    "train_dir = \"HiRISE-train\"\n",
    "val_dir = \"HiRISE-val\"\n",
    "test_dir = \"HiRISE-test\""
   ]
  },
  {
   "cell_type": "code",
   "execution_count": 22,
   "id": "9b495f2a",
   "metadata": {},
   "outputs": [
    {
     "name": "stdout",
     "output_type": "stream",
     "text": [
      "{'0': 'other', '1': 'crater', '2': 'dark dune', '3': 'slope streak', '4': 'bright dune', '5': 'impact ejecta', '6': 'swiss cheese', '7': 'spider'}\n"
     ]
    }
   ],
   "source": [
    "# read the class names into a dictionary\n",
    "classes = {}\n",
    "\n",
    "with open(class_names_file, \"r\") as class_file:\n",
    "    class_csv = csv.reader(class_file, delimiter=',', quotechar='|')\n",
    "    for row in class_csv:\n",
    "        classes[row[0]] = row[1]\n",
    "\n",
    "print(classes)"
   ]
  },
  {
   "cell_type": "code",
   "execution_count": 27,
   "id": "d32bd413",
   "metadata": {},
   "outputs": [],
   "source": [
    "# create lists of files with labels for each split\n",
    "\n",
    "train_files = []\n",
    "val_files = []\n",
    "test_files = []\n",
    "\n",
    "with open(labels_file, \"r\") as label_file:\n",
    "    label_csv = csv.reader(label_file, delimiter=' ', quotechar='|')\n",
    "    for row in label_csv:\n",
    "        if row[2] == \"train\":\n",
    "            train_files.append(( row[0], classes[row[1]] ))\n",
    "        elif row[2] == \"val\":\n",
    "            val_files.append(( row[0], classes[row[1]] ))\n",
    "        elif row[2] == \"test\":\n",
    "            test_files.append(( row[0], classes[row[1]] ))"
   ]
  },
  {
   "cell_type": "code",
   "execution_count": 54,
   "id": "e32638a6",
   "metadata": {},
   "outputs": [],
   "source": [
    "# class folder function\n",
    "def make_class_dirs(split, classes):\n",
    "    os.mkdir(split)\n",
    "    for value in classes.values():\n",
    "        os.mkdir(split + \"/\" + value)"
   ]
  },
  {
   "cell_type": "code",
   "execution_count": 52,
   "id": "273ff23f",
   "metadata": {},
   "outputs": [
    {
     "name": "stdout",
     "output_type": "stream",
     "text": [
      "Removing existing HiRISE-train\n"
     ]
    }
   ],
   "source": [
    "# create train folder\n",
    "\n",
    "#create directories\n",
    "try:\n",
    "    make_class_dirs(train_dir, classes)\n",
    "except FileExistsError:\n",
    "    print(f\"Removing existing {train_dir}\")\n",
    "    shutil.rmtree(train_dir)\n",
    "    make_class_dirs(train_dir, classes)\n",
    "\n",
    "for img in train_files:\n",
    "    src = img_dir + \"/\" + img[0]\n",
    "    dst = train_dir + \"/\" + img[1] + \"/\" + img[0]\n",
    "    shutil.copy(src, dst)"
   ]
  },
  {
   "cell_type": "code",
   "execution_count": 55,
   "id": "2a7fbc7b",
   "metadata": {},
   "outputs": [],
   "source": [
    "# create val folder\n",
    "\n",
    "#create directories\n",
    "try:\n",
    "    make_class_dirs(val_dir, classes)\n",
    "except FileExistsError:\n",
    "    print(f\"Removing existing {val_dir}\")\n",
    "    shutil.rmtree(val_dir)\n",
    "    make_class_dirs(val_dir, classes)\n",
    "\n",
    "for img in val_files:\n",
    "    src = img_dir + \"/\" + img[0]\n",
    "    dst = val_dir + \"/\" + img[1] + \"/\" + img[0]\n",
    "    shutil.copy(src, dst)"
   ]
  },
  {
   "cell_type": "code",
   "execution_count": 56,
   "id": "500e4c12",
   "metadata": {},
   "outputs": [],
   "source": [
    "# create test folder\n",
    "\n",
    "#create directories\n",
    "try:\n",
    "    make_class_dirs(test_dir, classes)\n",
    "except FileExistsError:\n",
    "    print(f\"Removing existing {test_dir}\")\n",
    "    shutil.rmtree(test_dir)\n",
    "    make_class_dirs(test_dir, classes)\n",
    "\n",
    "for img in test_files:\n",
    "    src = img_dir + \"/\" + img[0]\n",
    "    dst = test_dir + \"/\" + img[1] + \"/\" + img[0]\n",
    "    shutil.copy(src, dst)"
   ]
  }
 ],
 "metadata": {
  "kernelspec": {
   "display_name": "Python 3 (ipykernel)",
   "language": "python",
   "name": "python3"
  },
  "language_info": {
   "codemirror_mode": {
    "name": "ipython",
    "version": 3
   },
   "file_extension": ".py",
   "mimetype": "text/x-python",
   "name": "python",
   "nbconvert_exporter": "python",
   "pygments_lexer": "ipython3",
   "version": "3.10.12"
  }
 },
 "nbformat": 4,
 "nbformat_minor": 5
}
