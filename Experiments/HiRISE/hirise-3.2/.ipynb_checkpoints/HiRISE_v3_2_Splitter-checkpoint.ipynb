{
 "cells": [
  {
   "cell_type": "markdown",
   "id": "12959325",
   "metadata": {},
   "source": [
    "# HiRISE v3.2 Splitter\n",
    "This notebook splits the HiRISE dataset into folders for the Keras image generators in the model."
   ]
  },
  {
   "cell_type": "code",
   "execution_count": 31,
   "id": "c31a391e",
   "metadata": {},
   "outputs": [],
   "source": [
    "import csv\n",
    "import os\n",
    "import shutil\n",
    "\n",
    "# directories\n",
    "img_dir = \"map-proj-v3_2\"\n",
    "labels_file = \"labels-map-proj_v3_2_train_val_test.txt\"\n",
    "class_names_file = \"landmarks_map-proj-v3_2_classmap.csv\""
   ]
  },
  {
   "cell_type": "code",
   "execution_count": 22,
   "id": "c10e9397",
   "metadata": {},
   "outputs": [
    {
     "name": "stdout",
     "output_type": "stream",
     "text": [
      "{'0': 'other', '1': 'crater', '2': 'dark dune', '3': 'slope streak', '4': 'bright dune', '5': 'impact ejecta', '6': 'swiss cheese', '7': 'spider'}\n"
     ]
    }
   ],
   "source": [
    "# read the class names into a dictionary\n",
    "classes = {}\n",
    "\n",
    "with open(class_names_file, \"r\") as class_file:\n",
    "    class_csv = csv.reader(class_file, delimiter=',', quotechar='|')\n",
    "    for row in class_csv:\n",
    "        classes[row[0]] = row[1]\n",
    "\n",
    "print(classes)"
   ]
  },
  {
   "cell_type": "code",
   "execution_count": 27,
   "id": "38ea39b3",
   "metadata": {},
   "outputs": [],
   "source": [
    "# create lists of files with labels for each split\n",
    "\n",
    "train_files = []\n",
    "val_files = []\n",
    "test_files = []\n",
    "\n",
    "with open(labels_file, \"r\") as label_file:\n",
    "    label_csv = csv.reader(label_file, delimiter=' ', quotechar='|')\n",
    "    for row in label_csv:\n",
    "        if row[2] == \"train\":\n",
    "            train_files.append(( row[0], classes[row[1]] ))\n",
    "        elif row[2] == \"val\":\n",
    "            val_files.append(( row[0], classes[row[1]] ))\n",
    "        elif row[2] == \"test\":\n",
    "            test_files.append(( row[0], classes[row[1]] ))"
   ]
  },
  {
   "cell_type": "code",
   "execution_count": 33,
   "id": "544b2c05",
   "metadata": {},
   "outputs": [
    {
     "ename": "FileExistsError",
     "evalue": "[Errno 17] File exists: 'HiRISE-train'",
     "output_type": "error",
     "traceback": [
      "\u001b[0;31m---------------------------------------------------------------------------\u001b[0m",
      "\u001b[0;31mFileExistsError\u001b[0m                           Traceback (most recent call last)",
      "\u001b[0;32m/tmp/ipykernel_21032/4054475102.py\u001b[0m in \u001b[0;36m<module>\u001b[0;34m\u001b[0m\n\u001b[1;32m      1\u001b[0m \u001b[0;31m# create train folder\u001b[0m\u001b[0;34m\u001b[0m\u001b[0;34m\u001b[0m\u001b[0m\n\u001b[0;32m----> 2\u001b[0;31m \u001b[0mos\u001b[0m\u001b[0;34m.\u001b[0m\u001b[0mmkdir\u001b[0m\u001b[0;34m(\u001b[0m\u001b[0;34m\"HiRISE-train\"\u001b[0m\u001b[0;34m)\u001b[0m\u001b[0;34m\u001b[0m\u001b[0;34m\u001b[0m\u001b[0m\n\u001b[0m",
      "\u001b[0;31mFileExistsError\u001b[0m: [Errno 17] File exists: 'HiRISE-train'"
     ]
    }
   ],
   "source": [
    "# create train folder\n",
    "try:\n",
    "    os.mkdir(\"HiRISE-train\")\n",
    "except:\n",
    "    "
   ]
  }
 ],
 "metadata": {
  "kernelspec": {
   "display_name": "Python 3 (ipykernel)",
   "language": "python",
   "name": "python3"
  },
  "language_info": {
   "codemirror_mode": {
    "name": "ipython",
    "version": 3
   },
   "file_extension": ".py",
   "mimetype": "text/x-python",
   "name": "python",
   "nbconvert_exporter": "python",
   "pygments_lexer": "ipython3",
   "version": "3.10.12"
  }
 },
 "nbformat": 4,
 "nbformat_minor": 5
}
