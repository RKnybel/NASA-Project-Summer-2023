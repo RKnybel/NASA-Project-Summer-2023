{
 "cells": [
  {
   "cell_type": "code",
   "execution_count": 49,
   "id": "6adcbda2",
   "metadata": {},
   "outputs": [],
   "source": [
    "import numpy as np\n",
    "import pandas as pd\n",
    "import os\n",
    "from sklearn.model_selection import KFold, StratifiedKFold\n",
    "import tensorflow as tf\n",
    "from tensorflow.keras.preprocessing.image import ImageDataGenerator\n",
    "from tensorflow import keras\n",
    "from tensorflow.keras import layers\n",
    "from tensorflow.keras.models import Sequential\n",
    "\n",
    "label_file = \"hirise-v3-cv-dataset/hirise-text-labels-3class.txt\"\n",
    "image_dir = \"hirise-v3-cv-dataset/map-proj-v3\""
   ]
  },
  {
   "cell_type": "code",
   "execution_count": 50,
   "id": "f32ee548",
   "metadata": {},
   "outputs": [
    {
     "name": "stdout",
     "output_type": "stream",
     "text": [
      "             label\n",
      "0     slope_streak\n",
      "1     slope_streak\n",
      "2     slope_streak\n",
      "3     slope_streak\n",
      "4     slope_streak\n",
      "...            ...\n",
      "5224  swiss_cheese\n",
      "5225  swiss_cheese\n",
      "5226  swiss_cheese\n",
      "5227  swiss_cheese\n",
      "5228  swiss_cheese\n",
      "\n",
      "[5229 rows x 1 columns]\n"
     ]
    }
   ],
   "source": [
    "train_data = pd.read_csv(label_file, delimiter=\"\\s+\")\n",
    "Y = train_data[['label']]\n",
    "print(Y)\n",
    "\n",
    "kf = KFold(n_splits = 5)\n",
    "                         \n",
    "skf = StratifiedKFold(n_splits = 5, random_state = 7, shuffle = True) "
   ]
  },
  {
   "cell_type": "code",
   "execution_count": 51,
   "id": "b6a8504c",
   "metadata": {},
   "outputs": [],
   "source": [
    "idg = ImageDataGenerator(rescale=1./255)\n",
    "def get_model_name(k):\n",
    "    return 'model_'+str(k)+'.h5'"
   ]
  },
  {
   "cell_type": "code",
   "execution_count": 52,
   "id": "d7f27512",
   "metadata": {},
   "outputs": [],
   "source": [
    "from keras.layers import Dense, Activation, Dropout, Flatten, Conv2D, MaxPooling2D\n",
    "def create_new_model():\n",
    "    model = Sequential()\n",
    "\n",
    "    # 1st Convolutional Layer\n",
    "    model.add(Conv2D(filters=96, input_shape=(227,227,3), kernel_size=(11,11), strides=(4,4), padding='valid'))\n",
    "    model.add(Activation('relu'))\n",
    "    # Max Pooling\n",
    "    model.add(MaxPooling2D(pool_size=(2,2), strides=(2,2), padding='valid'))\n",
    "\n",
    "    # 2nd Convolutional Layer\n",
    "    model.add(Conv2D(filters=256, kernel_size=(11,11), strides=(1,1), padding='valid'))\n",
    "    model.add(Activation('relu'))\n",
    "    # Max Pooling\n",
    "    model.add(MaxPooling2D(pool_size=(2,2), strides=(2,2), padding='valid'))\n",
    "\n",
    "    # 3rd Convolutional Layer\n",
    "    model.add(Conv2D(filters=384, kernel_size=(3,3), strides=(1,1), padding='valid'))\n",
    "    model.add(Activation('relu'))\n",
    "\n",
    "    # 4th Convolutional Layer\n",
    "    model.add(Conv2D(filters=384, kernel_size=(3,3), strides=(1,1), padding='valid'))\n",
    "    model.add(Activation('relu'))\n",
    "\n",
    "    # 5th Convolutional Layer\n",
    "    model.add(Conv2D(filters=256, kernel_size=(3,3), strides=(1,1), padding='valid'))\n",
    "    model.add(Activation('relu'))\n",
    "    # Max Pooling\n",
    "    model.add(MaxPooling2D(pool_size=(2,2), strides=(2,2), padding='valid'))\n",
    "\n",
    "    # Passing it to a Fully Connected layer\n",
    "    model.add(Flatten())\n",
    "    # 1st Fully Connected Layer\n",
    "    model.add(Dense(4096, input_shape=(224*224*3,)))\n",
    "    model.add(Activation('relu'))\n",
    "    # Add Dropout to prevent overfitting\n",
    "    model.add(Dropout(0.5))\n",
    "\n",
    "    # 2nd Fully Connected Layer\n",
    "    model.add(Dense(4096))\n",
    "    model.add(Activation('relu'))\n",
    "    # Add Dropout\n",
    "    model.add(Dropout(0.5))\n",
    "\n",
    "    # 3rd Fully Connected Layer\n",
    "    model.add(Dense(1000))\n",
    "    model.add(Activation('relu'))\n",
    "    # Add Dropout\n",
    "    model.add(Dropout(0.5))\n",
    "\n",
    "    # Output Layer\n",
    "    model.add(Dense(3))\n",
    "    model.add(Activation('softmax'))\n",
    "    return model"
   ]
  },
  {
   "cell_type": "markdown",
   "id": "a10a9866",
   "metadata": {},
   "source": [
    "# The cell below trains the data and takes 1 hour 15 min. Don't run if you already have saved models!"
   ]
  },
  {
   "cell_type": "code",
   "execution_count": 55,
   "id": "bfaf0b78",
   "metadata": {},
   "outputs": [
    {
     "name": "stdout",
     "output_type": "stream",
     "text": [
      "Found 4183 validated image filenames belonging to 3 classes.\n",
      "Found 1046 validated image filenames belonging to 3 classes.\n",
      "Epoch 1/10\n",
      "131/131 [==============================] - ETA: 0s - loss: 1.1095 - accuracy: 0.4535\n",
      "Epoch 1: val_accuracy improved from -inf to 0.36138, saving model to saved_models_3class/model_1.h5\n"
     ]
    },
    {
     "name": "stderr",
     "output_type": "stream",
     "text": [
      "/home/riley/.local/lib/python3.10/site-packages/keras/src/engine/training.py:3000: UserWarning: You are saving your model as an HDF5 file via `model.save()`. This file format is considered legacy. We recommend using instead the native Keras format, e.g. `model.save('my_model.keras')`.\n",
      "  saving_api.save_model(\n"
     ]
    },
    {
     "name": "stdout",
     "output_type": "stream",
     "text": [
      "131/131 [==============================] - 7s 41ms/step - loss: 1.1095 - accuracy: 0.4535 - val_loss: 1.0572 - val_accuracy: 0.3614\n",
      "Epoch 2/10\n",
      "131/131 [==============================] - ETA: 0s - loss: 1.0632 - accuracy: 0.4623\n",
      "Epoch 2: val_accuracy did not improve from 0.36138\n",
      "131/131 [==============================] - 4s 33ms/step - loss: 1.0632 - accuracy: 0.4623 - val_loss: 1.0794 - val_accuracy: 0.3614\n",
      "Epoch 3/10\n",
      "131/131 [==============================] - ETA: 0s - loss: 1.0577 - accuracy: 0.4669\n",
      "Epoch 3: val_accuracy did not improve from 0.36138\n",
      "131/131 [==============================] - 4s 34ms/step - loss: 1.0577 - accuracy: 0.4669 - val_loss: 1.0913 - val_accuracy: 0.3614\n",
      "Epoch 4/10\n",
      "131/131 [==============================] - ETA: 0s - loss: 1.0589 - accuracy: 0.4669\n",
      "Epoch 4: val_accuracy did not improve from 0.36138\n",
      "131/131 [==============================] - 4s 34ms/step - loss: 1.0589 - accuracy: 0.4669 - val_loss: 1.0996 - val_accuracy: 0.3614\n",
      "Epoch 5/10\n",
      "131/131 [==============================] - ETA: 0s - loss: 1.0566 - accuracy: 0.4669\n",
      "Epoch 5: val_accuracy did not improve from 0.36138\n",
      "131/131 [==============================] - 4s 34ms/step - loss: 1.0566 - accuracy: 0.4669 - val_loss: 1.0939 - val_accuracy: 0.3614\n",
      "Epoch 6/10\n",
      "131/131 [==============================] - ETA: 0s - loss: 1.0568 - accuracy: 0.4669\n",
      "Epoch 6: val_accuracy did not improve from 0.36138\n",
      "131/131 [==============================] - 4s 34ms/step - loss: 1.0568 - accuracy: 0.4669 - val_loss: 1.0812 - val_accuracy: 0.3614\n",
      "Epoch 7/10\n",
      "131/131 [==============================] - ETA: 0s - loss: 1.0568 - accuracy: 0.4669\n",
      "Epoch 7: val_accuracy did not improve from 0.36138\n",
      "131/131 [==============================] - 4s 34ms/step - loss: 1.0568 - accuracy: 0.4669 - val_loss: 1.0827 - val_accuracy: 0.3614\n",
      "Epoch 8/10\n",
      "131/131 [==============================] - ETA: 0s - loss: 1.0568 - accuracy: 0.4669\n",
      "Epoch 8: val_accuracy did not improve from 0.36138\n",
      "131/131 [==============================] - 4s 34ms/step - loss: 1.0568 - accuracy: 0.4669 - val_loss: 1.0789 - val_accuracy: 0.3614\n",
      "Epoch 9/10\n",
      "131/131 [==============================] - ETA: 0s - loss: 1.0578 - accuracy: 0.4669\n",
      "Epoch 9: val_accuracy did not improve from 0.36138\n",
      "131/131 [==============================] - 4s 33ms/step - loss: 1.0578 - accuracy: 0.4669 - val_loss: 1.0889 - val_accuracy: 0.3614\n",
      "Epoch 10/10\n",
      "131/131 [==============================] - ETA: 0s - loss: 1.0574 - accuracy: 0.4669\n",
      "Epoch 10: val_accuracy did not improve from 0.36138\n",
      "131/131 [==============================] - 4s 34ms/step - loss: 1.0574 - accuracy: 0.4669 - val_loss: 1.0867 - val_accuracy: 0.3614\n",
      "33/33 [==============================] - 1s 17ms/step - loss: 1.0572 - accuracy: 0.3614\n",
      "Found 4183 validated image filenames belonging to 3 classes.\n",
      "Found 1046 validated image filenames belonging to 3 classes.\n",
      "Epoch 1/10\n",
      "131/131 [==============================] - ETA: 0s - loss: 1.1179 - accuracy: 0.4712\n",
      "Epoch 1: val_accuracy improved from -inf to 0.33365, saving model to saved_models_3class/model_2.h5\n"
     ]
    },
    {
     "name": "stderr",
     "output_type": "stream",
     "text": [
      "/home/riley/.local/lib/python3.10/site-packages/keras/src/engine/training.py:3000: UserWarning: You are saving your model as an HDF5 file via `model.save()`. This file format is considered legacy. We recommend using instead the native Keras format, e.g. `model.save('my_model.keras')`.\n",
      "  saving_api.save_model(\n"
     ]
    },
    {
     "name": "stdout",
     "output_type": "stream",
     "text": [
      "131/131 [==============================] - 7s 39ms/step - loss: 1.1179 - accuracy: 0.4712 - val_loss: 1.1035 - val_accuracy: 0.3337\n",
      "Epoch 2/10\n",
      "131/131 [==============================] - ETA: 0s - loss: 1.0547 - accuracy: 0.4738\n",
      "Epoch 2: val_accuracy did not improve from 0.33365\n",
      "131/131 [==============================] - 5s 34ms/step - loss: 1.0547 - accuracy: 0.4738 - val_loss: 1.1221 - val_accuracy: 0.3337\n",
      "Epoch 3/10\n",
      "131/131 [==============================] - ETA: 0s - loss: 1.0570 - accuracy: 0.4738\n",
      "Epoch 3: val_accuracy did not improve from 0.33365\n",
      "131/131 [==============================] - 4s 34ms/step - loss: 1.0570 - accuracy: 0.4738 - val_loss: 1.0991 - val_accuracy: 0.3337\n",
      "Epoch 4/10\n",
      "131/131 [==============================] - ETA: 0s - loss: 1.0524 - accuracy: 0.4738\n",
      "Epoch 4: val_accuracy did not improve from 0.33365\n",
      "131/131 [==============================] - 4s 34ms/step - loss: 1.0524 - accuracy: 0.4738 - val_loss: 1.1151 - val_accuracy: 0.3337\n",
      "Epoch 5/10\n",
      "131/131 [==============================] - ETA: 0s - loss: 1.0528 - accuracy: 0.4750\n",
      "Epoch 5: val_accuracy did not improve from 0.33365\n",
      "131/131 [==============================] - 4s 34ms/step - loss: 1.0528 - accuracy: 0.4750 - val_loss: 1.1159 - val_accuracy: 0.3337\n",
      "Epoch 6/10\n",
      "131/131 [==============================] - ETA: 0s - loss: 1.0516 - accuracy: 0.4738\n",
      "Epoch 6: val_accuracy did not improve from 0.33365\n",
      "131/131 [==============================] - 4s 34ms/step - loss: 1.0516 - accuracy: 0.4738 - val_loss: 1.0975 - val_accuracy: 0.3337\n",
      "Epoch 7/10\n",
      "131/131 [==============================] - ETA: 0s - loss: 1.0512 - accuracy: 0.4738\n",
      "Epoch 7: val_accuracy did not improve from 0.33365\n",
      "131/131 [==============================] - 4s 34ms/step - loss: 1.0512 - accuracy: 0.4738 - val_loss: 1.1168 - val_accuracy: 0.3337\n",
      "Epoch 8/10\n",
      "131/131 [==============================] - ETA: 0s - loss: 1.0509 - accuracy: 0.4738\n",
      "Epoch 8: val_accuracy did not improve from 0.33365\n",
      "131/131 [==============================] - 5s 34ms/step - loss: 1.0509 - accuracy: 0.4738 - val_loss: 1.1110 - val_accuracy: 0.3337\n",
      "Epoch 9/10\n",
      "131/131 [==============================] - ETA: 0s - loss: 1.0501 - accuracy: 0.4738\n",
      "Epoch 9: val_accuracy did not improve from 0.33365\n",
      "131/131 [==============================] - 5s 34ms/step - loss: 1.0501 - accuracy: 0.4738 - val_loss: 1.1146 - val_accuracy: 0.3337\n",
      "Epoch 10/10\n",
      "131/131 [==============================] - ETA: 0s - loss: 1.0511 - accuracy: 0.4738\n",
      "Epoch 10: val_accuracy did not improve from 0.33365\n",
      "131/131 [==============================] - 4s 34ms/step - loss: 1.0511 - accuracy: 0.4738 - val_loss: 1.1023 - val_accuracy: 0.3337\n",
      "33/33 [==============================] - 1s 18ms/step - loss: 1.1035 - accuracy: 0.3337\n",
      "Found 4183 validated image filenames belonging to 3 classes.\n",
      "Found 1046 validated image filenames belonging to 3 classes.\n",
      "Epoch 1/10\n",
      "131/131 [==============================] - ETA: 0s - loss: 1.0653 - accuracy: 0.4831\n",
      "Epoch 1: val_accuracy improved from -inf to 0.28872, saving model to saved_models_3class/model_3.h5\n"
     ]
    },
    {
     "name": "stderr",
     "output_type": "stream",
     "text": [
      "/home/riley/.local/lib/python3.10/site-packages/keras/src/engine/training.py:3000: UserWarning: You are saving your model as an HDF5 file via `model.save()`. This file format is considered legacy. We recommend using instead the native Keras format, e.g. `model.save('my_model.keras')`.\n",
      "  saving_api.save_model(\n"
     ]
    },
    {
     "name": "stdout",
     "output_type": "stream",
     "text": [
      "131/131 [==============================] - 7s 40ms/step - loss: 1.0653 - accuracy: 0.4831 - val_loss: 1.1007 - val_accuracy: 0.2887\n",
      "Epoch 2/10\n",
      "131/131 [==============================] - ETA: 0s - loss: 1.0476 - accuracy: 0.4853\n",
      "Epoch 2: val_accuracy did not improve from 0.28872\n",
      "131/131 [==============================] - 5s 34ms/step - loss: 1.0476 - accuracy: 0.4853 - val_loss: 1.1303 - val_accuracy: 0.2887\n",
      "Epoch 3/10\n",
      "131/131 [==============================] - ETA: 0s - loss: 1.0529 - accuracy: 0.4846\n",
      "Epoch 3: val_accuracy did not improve from 0.28872\n",
      "131/131 [==============================] - 4s 34ms/step - loss: 1.0529 - accuracy: 0.4846 - val_loss: 1.1247 - val_accuracy: 0.2887\n",
      "Epoch 4/10\n",
      "131/131 [==============================] - ETA: 0s - loss: 1.0458 - accuracy: 0.4851\n",
      "Epoch 4: val_accuracy did not improve from 0.28872\n",
      "131/131 [==============================] - 5s 34ms/step - loss: 1.0458 - accuracy: 0.4851 - val_loss: 1.1460 - val_accuracy: 0.2887\n",
      "Epoch 5/10\n",
      "131/131 [==============================] - ETA: 0s - loss: 1.0437 - accuracy: 0.4851\n",
      "Epoch 5: val_accuracy did not improve from 0.28872\n",
      "131/131 [==============================] - 5s 34ms/step - loss: 1.0437 - accuracy: 0.4851 - val_loss: 1.1388 - val_accuracy: 0.2887\n",
      "Epoch 6/10\n",
      "131/131 [==============================] - ETA: 0s - loss: 1.0437 - accuracy: 0.4851\n",
      "Epoch 6: val_accuracy did not improve from 0.28872\n",
      "131/131 [==============================] - 4s 34ms/step - loss: 1.0437 - accuracy: 0.4851 - val_loss: 1.1400 - val_accuracy: 0.2887\n",
      "Epoch 7/10\n",
      "131/131 [==============================] - ETA: 0s - loss: 1.0426 - accuracy: 0.4851\n",
      "Epoch 7: val_accuracy did not improve from 0.28872\n",
      "131/131 [==============================] - 4s 34ms/step - loss: 1.0426 - accuracy: 0.4851 - val_loss: 1.1468 - val_accuracy: 0.2887\n",
      "Epoch 8/10\n",
      "131/131 [==============================] - ETA: 0s - loss: 1.0420 - accuracy: 0.4851\n",
      "Epoch 8: val_accuracy did not improve from 0.28872\n",
      "131/131 [==============================] - 5s 34ms/step - loss: 1.0420 - accuracy: 0.4851 - val_loss: 1.1436 - val_accuracy: 0.2887\n",
      "Epoch 9/10\n",
      "131/131 [==============================] - ETA: 0s - loss: 1.0417 - accuracy: 0.4851\n",
      "Epoch 9: val_accuracy did not improve from 0.28872\n",
      "131/131 [==============================] - 5s 35ms/step - loss: 1.0417 - accuracy: 0.4851 - val_loss: 1.1473 - val_accuracy: 0.2887\n",
      "Epoch 10/10\n",
      "131/131 [==============================] - ETA: 0s - loss: 1.0435 - accuracy: 0.4851\n",
      "Epoch 10: val_accuracy did not improve from 0.28872\n",
      "131/131 [==============================] - 4s 34ms/step - loss: 1.0435 - accuracy: 0.4851 - val_loss: 1.1533 - val_accuracy: 0.2887\n",
      "33/33 [==============================] - 1s 19ms/step - loss: 1.1007 - accuracy: 0.2887\n",
      "Found 4183 validated image filenames belonging to 3 classes.\n",
      "Found 1046 validated image filenames belonging to 3 classes.\n",
      "Epoch 1/10\n",
      "131/131 [==============================] - ETA: 0s - loss: 1.0900 - accuracy: 0.3854\n",
      "Epoch 1: val_accuracy improved from -inf to 0.70076, saving model to saved_models_3class/model_4.h5\n"
     ]
    },
    {
     "name": "stderr",
     "output_type": "stream",
     "text": [
      "/home/riley/.local/lib/python3.10/site-packages/keras/src/engine/training.py:3000: UserWarning: You are saving your model as an HDF5 file via `model.save()`. This file format is considered legacy. We recommend using instead the native Keras format, e.g. `model.save('my_model.keras')`.\n",
      "  saving_api.save_model(\n"
     ]
    },
    {
     "name": "stdout",
     "output_type": "stream",
     "text": [
      "131/131 [==============================] - 7s 41ms/step - loss: 1.0900 - accuracy: 0.3854 - val_loss: 1.0518 - val_accuracy: 0.7008\n",
      "Epoch 2/10\n",
      "131/131 [==============================] - ETA: 0s - loss: 1.0761 - accuracy: 0.3873\n",
      "Epoch 2: val_accuracy did not improve from 0.70076\n",
      "131/131 [==============================] - 5s 35ms/step - loss: 1.0761 - accuracy: 0.3873 - val_loss: 1.0546 - val_accuracy: 0.1185\n",
      "Epoch 3/10\n",
      "131/131 [==============================] - ETA: 0s - loss: 1.0742 - accuracy: 0.3909\n",
      "Epoch 3: val_accuracy did not improve from 0.70076\n",
      "131/131 [==============================] - 5s 34ms/step - loss: 1.0742 - accuracy: 0.3909 - val_loss: 1.0166 - val_accuracy: 0.7008\n",
      "Epoch 4/10\n",
      "131/131 [==============================] - ETA: 0s - loss: 1.0763 - accuracy: 0.3930\n",
      "Epoch 4: val_accuracy did not improve from 0.70076\n",
      "131/131 [==============================] - 5s 34ms/step - loss: 1.0763 - accuracy: 0.3930 - val_loss: 1.0305 - val_accuracy: 0.7008\n",
      "Epoch 5/10\n",
      "131/131 [==============================] - ETA: 0s - loss: 1.0753 - accuracy: 0.3794\n",
      "Epoch 5: val_accuracy did not improve from 0.70076\n",
      "131/131 [==============================] - 5s 34ms/step - loss: 1.0753 - accuracy: 0.3794 - val_loss: 1.0247 - val_accuracy: 0.7008\n",
      "Epoch 6/10\n",
      "131/131 [==============================] - ETA: 0s - loss: 1.0741 - accuracy: 0.3839\n",
      "Epoch 6: val_accuracy did not improve from 0.70076\n",
      "131/131 [==============================] - 4s 34ms/step - loss: 1.0741 - accuracy: 0.3839 - val_loss: 1.0530 - val_accuracy: 0.1185\n",
      "Epoch 7/10\n",
      "131/131 [==============================] - ETA: 0s - loss: 1.0735 - accuracy: 0.3973\n",
      "Epoch 7: val_accuracy did not improve from 0.70076\n",
      "131/131 [==============================] - 4s 34ms/step - loss: 1.0735 - accuracy: 0.3973 - val_loss: 1.0497 - val_accuracy: 0.1185\n",
      "Epoch 8/10\n",
      "131/131 [==============================] - ETA: 0s - loss: 1.0746 - accuracy: 0.3629\n",
      "Epoch 8: val_accuracy did not improve from 0.70076\n",
      "131/131 [==============================] - 5s 34ms/step - loss: 1.0746 - accuracy: 0.3629 - val_loss: 1.0566 - val_accuracy: 0.1185\n",
      "Epoch 9/10\n",
      "131/131 [==============================] - ETA: 0s - loss: 1.0734 - accuracy: 0.3866\n",
      "Epoch 9: val_accuracy did not improve from 0.70076\n",
      "131/131 [==============================] - 4s 34ms/step - loss: 1.0734 - accuracy: 0.3866 - val_loss: 1.0611 - val_accuracy: 0.1185\n",
      "Epoch 10/10\n",
      "131/131 [==============================] - ETA: 0s - loss: 1.0733 - accuracy: 0.3870\n",
      "Epoch 10: val_accuracy did not improve from 0.70076\n",
      "131/131 [==============================] - 4s 34ms/step - loss: 1.0733 - accuracy: 0.3870 - val_loss: 1.0578 - val_accuracy: 0.1185\n",
      "33/33 [==============================] - 1s 17ms/step - loss: 1.0518 - accuracy: 0.7008\n",
      "Found 4184 validated image filenames belonging to 3 classes.\n",
      "Found 1045 validated image filenames belonging to 3 classes.\n",
      "Epoch 1/10\n",
      "131/131 [==============================] - ETA: 0s - loss: 1.1010 - accuracy: 0.4137\n",
      "Epoch 1: val_accuracy improved from -inf to 0.54450, saving model to saved_models_3class/model_5.h5\n"
     ]
    },
    {
     "name": "stderr",
     "output_type": "stream",
     "text": [
      "/home/riley/.local/lib/python3.10/site-packages/keras/src/engine/training.py:3000: UserWarning: You are saving your model as an HDF5 file via `model.save()`. This file format is considered legacy. We recommend using instead the native Keras format, e.g. `model.save('my_model.keras')`.\n",
      "  saving_api.save_model(\n"
     ]
    },
    {
     "name": "stdout",
     "output_type": "stream",
     "text": [
      "131/131 [==============================] - 8s 42ms/step - loss: 1.1010 - accuracy: 0.4137 - val_loss: 1.0393 - val_accuracy: 0.5445\n",
      "Epoch 2/10\n",
      "131/131 [==============================] - ETA: 0s - loss: 1.0646 - accuracy: 0.4197\n",
      "Epoch 2: val_accuracy did not improve from 0.54450\n",
      "131/131 [==============================] - 5s 35ms/step - loss: 1.0646 - accuracy: 0.4197 - val_loss: 1.0567 - val_accuracy: 0.5445\n",
      "Epoch 3/10\n",
      "131/131 [==============================] - ETA: 0s - loss: 1.0643 - accuracy: 0.4187\n",
      "Epoch 3: val_accuracy did not improve from 0.54450\n",
      "131/131 [==============================] - 5s 34ms/step - loss: 1.0643 - accuracy: 0.4187 - val_loss: 1.0828 - val_accuracy: 0.5445\n",
      "Epoch 4/10\n",
      "131/131 [==============================] - ETA: 0s - loss: 1.0651 - accuracy: 0.4152\n",
      "Epoch 4: val_accuracy did not improve from 0.54450\n",
      "131/131 [==============================] - 5s 34ms/step - loss: 1.0651 - accuracy: 0.4152 - val_loss: 1.0620 - val_accuracy: 0.5445\n",
      "Epoch 5/10\n",
      "131/131 [==============================] - ETA: 0s - loss: 1.0626 - accuracy: 0.4204\n",
      "Epoch 5: val_accuracy did not improve from 0.54450\n",
      "131/131 [==============================] - 5s 35ms/step - loss: 1.0626 - accuracy: 0.4204 - val_loss: 1.0661 - val_accuracy: 0.5445\n",
      "Epoch 6/10\n",
      "131/131 [==============================] - ETA: 0s - loss: 1.0623 - accuracy: 0.4207\n",
      "Epoch 6: val_accuracy did not improve from 0.54450\n",
      "131/131 [==============================] - 4s 34ms/step - loss: 1.0623 - accuracy: 0.4207 - val_loss: 1.0639 - val_accuracy: 0.5445\n",
      "Epoch 7/10\n",
      "131/131 [==============================] - ETA: 0s - loss: 1.0630 - accuracy: 0.4211\n",
      "Epoch 7: val_accuracy did not improve from 0.54450\n",
      "131/131 [==============================] - 5s 35ms/step - loss: 1.0630 - accuracy: 0.4211 - val_loss: 1.0724 - val_accuracy: 0.5445\n",
      "Epoch 8/10\n",
      "131/131 [==============================] - ETA: 0s - loss: 1.0625 - accuracy: 0.4209\n",
      "Epoch 8: val_accuracy did not improve from 0.54450\n",
      "131/131 [==============================] - 5s 34ms/step - loss: 1.0625 - accuracy: 0.4209 - val_loss: 1.0652 - val_accuracy: 0.5445\n",
      "Epoch 9/10\n",
      "131/131 [==============================] - ETA: 0s - loss: 1.0646 - accuracy: 0.4185\n",
      "Epoch 9: val_accuracy did not improve from 0.54450\n",
      "131/131 [==============================] - 5s 34ms/step - loss: 1.0646 - accuracy: 0.4185 - val_loss: 1.0615 - val_accuracy: 0.5445\n",
      "Epoch 10/10\n",
      "131/131 [==============================] - ETA: 0s - loss: 1.0628 - accuracy: 0.4202\n",
      "Epoch 10: val_accuracy did not improve from 0.54450\n",
      "131/131 [==============================] - 4s 34ms/step - loss: 1.0628 - accuracy: 0.4202 - val_loss: 1.0618 - val_accuracy: 0.5445\n",
      "33/33 [==============================] - 1s 19ms/step - loss: 1.0393 - accuracy: 0.5445\n"
     ]
    }
   ],
   "source": [
    "VALIDATION_ACCURACY = []\n",
    "VALIDATION_LOSS = []\n",
    "\n",
    "save_dir = 'saved_models_3class/'\n",
    "fold_var = 1\n",
    "n=5229\n",
    "num_epochs = 10\n",
    "img_width = 227\n",
    "img_height = 227\n",
    "\n",
    "for train_index, val_index in kf.split(np.zeros(n),Y):\n",
    "\ttraining_data = train_data.iloc[train_index]\n",
    "\tvalidation_data = train_data.iloc[val_index]\n",
    "\t\n",
    "\ttrain_data_generator = idg.flow_from_dataframe(training_data, directory = image_dir,\n",
    "\t\t\t\t\t\t       x_col = \"filename\", y_col = \"label\", target_size=(img_height, img_width),\n",
    "\t\t\t\t\t\t       class_mode = \"categorical\", shuffle = True)\n",
    "\tvalid_data_generator  = idg.flow_from_dataframe(validation_data, directory = image_dir,\n",
    "\t\t\t\t\t\t\tx_col = \"filename\", y_col = \"label\", target_size=(img_height, img_width),\n",
    "\t\t\t\t\t\t\tclass_mode = \"categorical\", shuffle = True)\n",
    "\t\n",
    "\t# CREATE NEW MODEL\n",
    "\tmodel = create_new_model()\n",
    "\t# COMPILE NEW MODEL\n",
    "\tmodel.compile(loss='categorical_crossentropy',\n",
    "\t\t      optimizer='adam',\n",
    "\t\t      metrics=['accuracy'])\n",
    "\t\n",
    "\t# CREATE CALLBACKS\n",
    "\tcheckpoint = tf.keras.callbacks.ModelCheckpoint(save_dir+get_model_name(fold_var), \n",
    "\t\t\t\t\t\t\tmonitor='val_accuracy', verbose=1, \n",
    "\t\t\t\t\t\t\tsave_best_only=True, mode='max')\n",
    "\tcallbacks_list = [checkpoint]\n",
    "\t# There can be other callbacks, but just showing one because it involves the model name\n",
    "\t# This saves the best model\n",
    "\t# FIT THE MODEL\n",
    "\thistory = model.fit(train_data_generator,\n",
    "\t\t\t    epochs=num_epochs,\n",
    "\t\t\t    callbacks=callbacks_list,\n",
    "\t\t\t    validation_data=valid_data_generator)\n",
    "\t#PLOT HISTORY\n",
    "\t#\t\t:\n",
    "\t#\t\t:\n",
    "\t\n",
    "\t# LOAD BEST MODEL to evaluate the performance of the model\n",
    "\tmodel.load_weights(save_dir + \"/model_\" + str(fold_var) + \".h5\")\n",
    "\t\n",
    "\tresults = model.evaluate(valid_data_generator)\n",
    "\tresults = dict(zip(model.metrics_names,results))\n",
    "\t\n",
    "\tVALIDATION_ACCURACY.append(results['accuracy'])\n",
    "\tVALIDATION_LOSS.append(results['loss'])\n",
    "\t\n",
    "\ttf.keras.backend.clear_session()\n",
    "\t\n",
    "\tfold_var += 1"
   ]
  },
  {
   "cell_type": "markdown",
   "id": "bcdd0297",
   "metadata": {},
   "source": [
    "# Evaluate saved model performance"
   ]
  },
  {
   "cell_type": "code",
   "execution_count": 56,
   "id": "0189bd86",
   "metadata": {},
   "outputs": [],
   "source": [
    "def load_trained_model(model_file):\n",
    "    model = create_new_model()\n",
    "    return model.load_weights(model_file)"
   ]
  },
  {
   "cell_type": "code",
   "execution_count": 57,
   "id": "daee45f4",
   "metadata": {
    "scrolled": false
   },
   "outputs": [
    {
     "name": "stdout",
     "output_type": "stream",
     "text": [
      "Found 4183 validated image filenames belonging to 3 classes.\n",
      "Found 1046 validated image filenames belonging to 3 classes.\n",
      "33/33 [==============================] - 1s 19ms/step\n"
     ]
    },
    {
     "data": {
      "image/png": "[encoded data removed]",
      "text/plain": [
       "<Figure size 576x432 with 1 Axes>"
      ]
     },
     "metadata": {
      "needs_background": "light"
     },
     "output_type": "display_data"
    },
    {
     "name": "stdout",
     "output_type": "stream",
     "text": [
      "Found 4183 validated image filenames belonging to 3 classes.\n",
      "Found 1046 validated image filenames belonging to 3 classes.\n",
      "33/33 [==============================] - 1s 19ms/step\n"
     ]
    },
    {
     "data": {
      "image/png": "[encoded data removed]",
      "text/plain": [
       "<Figure size 576x432 with 1 Axes>"
      ]
     },
     "metadata": {
      "needs_background": "light"
     },
     "output_type": "display_data"
    },
    {
     "name": "stdout",
     "output_type": "stream",
     "text": [
      "Found 4183 validated image filenames belonging to 3 classes.\n",
      "Found 1046 validated image filenames belonging to 3 classes.\n",
      "33/33 [==============================] - 1s 19ms/step\n"
     ]
    },
    {
     "data": {
      "image/png": "[encoded data removed]",
      "text/plain": [
       "<Figure size 576x432 with 1 Axes>"
      ]
     },
     "metadata": {
      "needs_background": "light"
     },
     "output_type": "display_data"
    },
    {
     "name": "stdout",
     "output_type": "stream",
     "text": [
      "Found 4183 validated image filenames belonging to 3 classes.\n",
      "Found 1046 validated image filenames belonging to 3 classes.\n",
      "33/33 [==============================] - 1s 19ms/step\n"
     ]
    },
    {
     "data": {
      "image/png": "[encoded data removed]",
      "text/plain": [
       "<Figure size 576x432 with 1 Axes>"
      ]
     },
     "metadata": {
      "needs_background": "light"
     },
     "output_type": "display_data"
    },
    {
     "name": "stdout",
     "output_type": "stream",
     "text": [
      "Found 4184 validated image filenames belonging to 3 classes.\n",
      "Found 1045 validated image filenames belonging to 3 classes.\n",
      "33/33 [==============================] - 1s 20ms/step\n"
     ]
    },
    {
     "data": {
      "image/png": "[encoded data removed]",
      "text/plain": [
       "<Figure size 576x432 with 1 Axes>"
      ]
     },
     "metadata": {
      "needs_background": "light"
     },
     "output_type": "display_data"
    }
   ],
   "source": [
    "from sklearn.metrics import confusion_matrix\n",
    "import seaborn as sns\n",
    "import matplotlib.pyplot as plt\n",
    "\n",
    "fold_var = 1\n",
    "n=5229\n",
    "num_epochs = 10\n",
    "img_width = 227\n",
    "img_height = 227\n",
    "\n",
    "for train_index, val_index in kf.split(np.zeros(n),Y):\n",
    "    training_data = train_data.iloc[train_index]\n",
    "    validation_data = train_data.iloc[val_index]\n",
    "\t\n",
    "    train_data_generator = idg.flow_from_dataframe(training_data, directory = image_dir,\n",
    "\t\t\t\t\t\t       x_col = \"filename\", y_col = \"label\", target_size=(img_height, img_width),\n",
    "\t\t\t\t\t\t       class_mode = \"categorical\", shuffle = True)\n",
    "    valid_data_generator  = idg.flow_from_dataframe(validation_data, directory = image_dir,\n",
    "\t\t\t\t\t\t\tx_col = \"filename\", y_col = \"label\", target_size=(img_height, img_width),\n",
    "\t\t\t\t\t\t\tclass_mode = \"categorical\", shuffle = True)\n",
    "    \n",
    "    class_labels = list(valid_data_generator.class_indices.keys())\n",
    "    \n",
    "    load_trained_model(save_dir + \"/model_\" + str(fold_var) + \".h5\")\n",
    "    \n",
    "    # perform validation predictions\n",
    "    val_predictions = model.predict(valid_data_generator)\n",
    "    # Convert predicted probabilities to class labels\n",
    "    predicted_labels = np.argmax(val_predictions, axis=1)\n",
    "    \n",
    "    # generate confusion matrix\n",
    "    confusion = confusion_matrix(valid_data_generator.classes, predicted_labels)\n",
    "    \n",
    "    # plot confusion matrix\n",
    "    plt.figure(figsize=(8, 6))\n",
    "    sns.heatmap(confusion / confusion.astype(float).sum(axis=1), annot=True, fmt=\"f\", cmap=\"Blues\", cbar=False,\n",
    "                xticklabels=class_labels, yticklabels=class_labels)\n",
    "    plt.xlabel('Predicted')\n",
    "    plt.ylabel('True')\n",
    "    plt.title('Fold ' + str(fold_var) +  ' Confusion Matrix')\n",
    "    plt.show()\n",
    "    \n",
    "    fold_var += 1"
   ]
  }
 ],
 "metadata": {
  "kernelspec": {
   "display_name": "Python 3 (ipykernel)",
   "language": "python",
   "name": "python3"
  },
  "language_info": {
   "codemirror_mode": {
    "name": "ipython",
    "version": 3
   },
   "file_extension": ".py",
   "mimetype": "text/x-python",
   "name": "python",
   "nbconvert_exporter": "python",
   "pygments_lexer": "ipython3",
   "version": "3.10.12"
  }
 },
 "nbformat": 4,
 "nbformat_minor": 5
}
