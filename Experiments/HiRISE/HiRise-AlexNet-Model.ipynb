{
 "cells": [
  {
   "cell_type": "markdown",
   "id": "495cb717",
   "metadata": {},
   "source": [
    "## Part 1/3: Prepare Hardware and Data"
   ]
  },
  {
   "cell_type": "code",
   "execution_count": 1,
   "id": "cea1ac39",
   "metadata": {},
   "outputs": [
    {
     "name": "stderr",
     "output_type": "stream",
     "text": [
      "2023-10-12 12:12:43.213700: I tensorflow/core/platform/cpu_feature_guard.cc:182] This TensorFlow binary is optimized to use available CPU instructions in performance-critical operations.\n",
      "To enable the following instructions: AVX2 FMA, in other operations, rebuild TensorFlow with the appropriate compiler flags.\n",
      "2023-10-12 12:12:44.035570: W tensorflow/compiler/tf2tensorrt/utils/py_utils.cc:38] TF-TRT Warning: Could not find TensorRT\n"
     ]
    }
   ],
   "source": [
    "#import tensorflow and other libraries\n",
    "import matplotlib.pyplot as plt\n",
    "import numpy as np\n",
    "import PIL\n",
    "import tensorflow as tf\n",
    "\n",
    "from tensorflow import keras\n",
    "from tensorflow.keras import layers\n",
    "from tensorflow.keras.models import Sequential\n",
    "\n",
    "import os\n",
    "mode = \"oversample\" # \"oversample\", \"weights\" or \"raw\"\n",
    "\n",
    "if mode == \"oversample\":\n",
    "    img_folder = \"hirise-oversample\"\n",
    "else:\n",
    "    img_folder = \"map-proj-v3-classdirs\""
   ]
  },
  {
   "cell_type": "code",
   "execution_count": 2,
   "id": "923f714a",
   "metadata": {},
   "outputs": [
    {
     "name": "stderr",
     "output_type": "stream",
     "text": [
      "2023-10-12 12:12:47.268790: I tensorflow/compiler/xla/stream_executor/cuda/cuda_gpu_executor.cc:995] successful NUMA node read from SysFS had negative value (-1), but there must be at least one NUMA node, so returning NUMA node zero. See more at https://github.com/torvalds/linux/blob/v6.0/Documentation/ABI/testing/sysfs-bus-pci#L344-L355\n",
      "2023-10-12 12:12:47.301844: I tensorflow/compiler/xla/stream_executor/cuda/cuda_gpu_executor.cc:995] successful NUMA node read from SysFS had negative value (-1), but there must be at least one NUMA node, so returning NUMA node zero. See more at https://github.com/torvalds/linux/blob/v6.0/Documentation/ABI/testing/sysfs-bus-pci#L344-L355\n",
      "2023-10-12 12:12:47.302045: I tensorflow/compiler/xla/stream_executor/cuda/cuda_gpu_executor.cc:995] successful NUMA node read from SysFS had negative value (-1), but there must be at least one NUMA node, so returning NUMA node zero. See more at https://github.com/torvalds/linux/blob/v6.0/Documentation/ABI/testing/sysfs-bus-pci#L344-L355\n"
     ]
    }
   ],
   "source": [
    "#Tensorflow GPU memory allocation fix\n",
    "#https://github.com/tensorflow/tensorflow/issues/35264\n",
    "gpus = tf.config.experimental.list_physical_devices('GPU')\n",
    "tf.config.experimental.set_memory_growth(gpus[0], True)"
   ]
  },
  {
   "cell_type": "markdown",
   "id": "b452ffa1",
   "metadata": {},
   "source": [
    "## Input pipeline\n",
    "Using the Keras ImageDataGenerator, the dataset is split into train and validation in an 80/20 split. Class weights are calulated after loading the dataset."
   ]
  },
  {
   "cell_type": "code",
   "execution_count": 3,
   "id": "40f0e369",
   "metadata": {},
   "outputs": [
    {
     "name": "stdout",
     "output_type": "stream",
     "text": [
      "Found 27440 images belonging to 7 classes.\n",
      "Found 6853 images belonging to 7 classes.\n",
      "\n",
      "{0: 1.0, 1: 1.0, 2: 1.0, 3: 1.0, 4: 1.0, 5: 1.0, 6: 1.0}\n"
     ]
    },
    {
     "data": {
      "text/plain": [
       "\"\\n#show some images\\nfig, ax = plt.subplots(nrows=5, ncols=10, figsize=(15,15))\\n\\nfor i in range(5):\\n    for j in range(10):\\n\\n        # convert to unsigned integers for plotting\\n        image = next(train_generator)[0][0]\\n\\n        # changing size from (1, 200, 200, 3) to (200, 200, 3) for plotting the image\\n        image = np.squeeze(image)\\n\\n        # plot raw pixel data\\n        ax[i][j].imshow(image)\\n        ax[i][j].axis('off')\\n\""
      ]
     },
     "execution_count": 3,
     "metadata": {},
     "output_type": "execute_result"
    }
   ],
   "source": [
    "# https://stackoverflow.com/questions/42443936/keras-split-train-test-set-when-using-imagedatagenerator\n",
    "\n",
    "from tensorflow.keras.preprocessing.image import ImageDataGenerator\n",
    "from sklearn.utils.class_weight import compute_class_weight\n",
    "\n",
    "# Set the image size and batch size\n",
    "img_height = 227\n",
    "img_width = 227\n",
    "batch_size = 128\n",
    "\n",
    "# Create ImageDataGenerator for data augmentation and loading the dataset\n",
    "train_datagen = ImageDataGenerator(\n",
    "    rescale=1.0 / 255, # Normalize pixel values to [0, 1]\n",
    "    validation_split=0.2 # set validation split\n",
    "    # Add other data augmentation parameters as needed\n",
    ")\n",
    "\n",
    "# Load the dataset using ImageDataGenerator\n",
    "train_generator = train_datagen.flow_from_directory(\n",
    "    img_folder,\n",
    "    target_size=(img_height, img_width),\n",
    "    color_mode='rgb',\n",
    "    batch_size=batch_size,\n",
    "    class_mode='categorical',\n",
    "    shuffle=True,       # Important: Shuffle the data to avoid issues with class weighting\n",
    "    seed=123,            # Set seed for reproducibility\n",
    "    subset='training')\n",
    "\n",
    "validation_generator = train_datagen.flow_from_directory(\n",
    "    img_folder,\n",
    "    target_size=(img_height, img_width),\n",
    "    color_mode='rgb',\n",
    "    batch_size=batch_size,\n",
    "    class_mode='categorical',\n",
    "    shuffle=False,       # Important: Shuffle the data to avoid issues with class weighting\n",
    "    seed=123,            # Set seed for reproducibility\n",
    "    subset='validation')\n",
    "\n",
    "# Compute class weights\n",
    "class_weights = compute_class_weight('balanced', classes=np.unique(train_generator.classes), y=train_generator.classes)\n",
    "\n",
    "\n",
    "# Convert class weights to a dictionary format\n",
    "class_weights_dict = dict(enumerate(class_weights))\n",
    "print(\"\")\n",
    "print(class_weights_dict)\n",
    "'''\n",
    "#show some images\n",
    "fig, ax = plt.subplots(nrows=5, ncols=10, figsize=(15,15))\n",
    "\n",
    "for i in range(5):\n",
    "    for j in range(10):\n",
    "\n",
    "        # convert to unsigned integers for plotting\n",
    "        image = next(train_generator)[0][0]\n",
    "\n",
    "        # changing size from (1, 200, 200, 3) to (200, 200, 3) for plotting the image\n",
    "        image = np.squeeze(image)\n",
    "\n",
    "        # plot raw pixel data\n",
    "        ax[i][j].imshow(image)\n",
    "        ax[i][j].axis('off')\n",
    "'''"
   ]
  },
  {
   "cell_type": "code",
   "execution_count": null,
   "id": "c6046e2d",
   "metadata": {},
   "outputs": [],
   "source": []
  },
  {
   "cell_type": "markdown",
   "id": "f0b9e0a3",
   "metadata": {},
   "source": [
    "## Here, the dataset's class distribution is shown to verify the split"
   ]
  },
  {
   "cell_type": "code",
   "execution_count": 4,
   "id": "86a1f6f9",
   "metadata": {
    "scrolled": false
   },
   "outputs": [
    {
     "data": {
      "image/png": "[encoded data removed]",
      "text/plain": [
       "<Figure size 864x432 with 1 Axes>"
      ]
     },
     "metadata": {
      "needs_background": "light"
     },
     "output_type": "display_data"
    },
    {
     "data": {
      "image/png": "[encoded data removed]",
      "text/plain": [
       "<Figure size 864x432 with 1 Axes>"
      ]
     },
     "metadata": {
      "needs_background": "light"
     },
     "output_type": "display_data"
    }
   ],
   "source": [
    "import matplotlib.pyplot as plt\n",
    "\n",
    "# Get the number of classes\n",
    "num_classes = len(train_generator.class_indices)\n",
    "\n",
    "# Count the number of samples for each class in the training data\n",
    "train_class_counts = np.zeros(num_classes)\n",
    "for _, labels in train_generator:\n",
    "    for label in labels.argmax(axis=1):\n",
    "        train_class_counts[label] += 1\n",
    "    if train_generator.batch_index == 0:\n",
    "        break\n",
    "\n",
    "# Count the number of samples for each class in the validation data\n",
    "validation_class_counts = np.zeros(num_classes)\n",
    "for _, labels in validation_generator:\n",
    "    for label in labels.argmax(axis=1):\n",
    "        validation_class_counts[label] += 1\n",
    "    if validation_generator.batch_index == 0:\n",
    "        break\n",
    "\n",
    "# Get the class labels\n",
    "class_labels = list(train_generator.class_indices.keys())\n",
    "\n",
    "# Plot the class distribution for training data\n",
    "plt.figure(figsize=(12, 6))\n",
    "plt.bar(class_labels, train_class_counts)\n",
    "plt.title(\"Class Distribution - Training Data\")\n",
    "plt.xlabel(\"Class\")\n",
    "plt.ylabel(\"Number of Samples\")\n",
    "plt.xticks(rotation=45, ha='right')\n",
    "\n",
    "# Add number labels to each bar\n",
    "for i, count in enumerate(train_class_counts):\n",
    "    plt.text(i, count, str(int(count)), ha='center', va='bottom')\n",
    "\n",
    "plt.show()\n",
    "\n",
    "# Plot the class distribution for validation data\n",
    "plt.figure(figsize=(12, 6))\n",
    "plt.bar(class_labels, validation_class_counts)\n",
    "plt.title(\"Class Distribution - Validation Data\")\n",
    "plt.xlabel(\"Class\")\n",
    "plt.ylabel(\"Number of Samples\")\n",
    "plt.xticks(rotation=45, ha='right')\n",
    "\n",
    "# Add number labels to each bar\n",
    "for i, count in enumerate(validation_class_counts):\n",
    "    plt.text(i, count, str(int(count)), ha='center', va='bottom')\n",
    "\n",
    "plt.show()"
   ]
  },
  {
   "cell_type": "markdown",
   "id": "01b9d168",
   "metadata": {},
   "source": [
    "## Part 2/3: Building and Training"
   ]
  },
  {
   "cell_type": "code",
   "execution_count": 5,
   "id": "aa7935e0",
   "metadata": {
    "scrolled": true
   },
   "outputs": [
    {
     "data": {
      "text/plain": [
       "' older alexnet\\nmodel = keras.models.Sequential([\\n    keras.layers.Conv2D(filters=96, kernel_size=(11,11), strides=(4,4), activation=\\'relu\\', input_shape=(img_height, img_width,3)),\\n    keras.layers.BatchNormalization(),\\n    keras.layers.MaxPool2D(pool_size=(3,3), strides=(2,2)),\\n    keras.layers.Conv2D(filters=256, kernel_size=(5,5), strides=(1,1), activation=\\'relu\\', padding=\"same\"),\\n    keras.layers.BatchNormalization(),\\n    keras.layers.MaxPool2D(pool_size=(3,3), strides=(2,2)),\\n    keras.layers.Conv2D(filters=384, kernel_size=(3,3), strides=(1,1), activation=\\'relu\\', padding=\"same\"),\\n    keras.layers.BatchNormalization(),\\n    keras.layers.Conv2D(filters=384, kernel_size=(3,3), strides=(1,1), activation=\\'relu\\', padding=\"same\"),\\n    keras.layers.BatchNormalization(),\\n    keras.layers.Conv2D(filters=256, kernel_size=(3,3), strides=(1,1), activation=\\'relu\\', padding=\"same\"),\\n    keras.layers.BatchNormalization(),\\n    keras.layers.MaxPool2D(pool_size=(3,3), strides=(2,2)),\\n    keras.layers.Flatten(),\\n    keras.layers.Dense(4096, activation=\\'relu\\'),\\n    keras.layers.Dropout(0.5),\\n    keras.layers.Dense(4096, activation=\\'relu\\'),\\n    keras.layers.Dropout(0.5),\\n    keras.layers.Dense(7, activation=\\'softmax\\')\\n])\\n\\n#old alexnet\\n\\n'"
      ]
     },
     "execution_count": 5,
     "metadata": {},
     "output_type": "execute_result"
    }
   ],
   "source": [
    "''' older alexnet\n",
    "model = keras.models.Sequential([\n",
    "    keras.layers.Conv2D(filters=96, kernel_size=(11,11), strides=(4,4), activation='relu', input_shape=(img_height, img_width,3)),\n",
    "    keras.layers.BatchNormalization(),\n",
    "    keras.layers.MaxPool2D(pool_size=(3,3), strides=(2,2)),\n",
    "    keras.layers.Conv2D(filters=256, kernel_size=(5,5), strides=(1,1), activation='relu', padding=\"same\"),\n",
    "    keras.layers.BatchNormalization(),\n",
    "    keras.layers.MaxPool2D(pool_size=(3,3), strides=(2,2)),\n",
    "    keras.layers.Conv2D(filters=384, kernel_size=(3,3), strides=(1,1), activation='relu', padding=\"same\"),\n",
    "    keras.layers.BatchNormalization(),\n",
    "    keras.layers.Conv2D(filters=384, kernel_size=(3,3), strides=(1,1), activation='relu', padding=\"same\"),\n",
    "    keras.layers.BatchNormalization(),\n",
    "    keras.layers.Conv2D(filters=256, kernel_size=(3,3), strides=(1,1), activation='relu', padding=\"same\"),\n",
    "    keras.layers.BatchNormalization(),\n",
    "    keras.layers.MaxPool2D(pool_size=(3,3), strides=(2,2)),\n",
    "    keras.layers.Flatten(),\n",
    "    keras.layers.Dense(4096, activation='relu'),\n",
    "    keras.layers.Dropout(0.5),\n",
    "    keras.layers.Dense(4096, activation='relu'),\n",
    "    keras.layers.Dropout(0.5),\n",
    "    keras.layers.Dense(7, activation='softmax')\n",
    "])\n",
    "\n",
    "#old alexnet\n",
    "\n",
    "'''"
   ]
  },
  {
   "cell_type": "code",
   "execution_count": 6,
   "id": "16c9ff61",
   "metadata": {},
   "outputs": [
    {
     "name": "stderr",
     "output_type": "stream",
     "text": [
      "2023-10-12 12:18:34.012123: I tensorflow/compiler/xla/stream_executor/cuda/cuda_gpu_executor.cc:995] successful NUMA node read from SysFS had negative value (-1), but there must be at least one NUMA node, so returning NUMA node zero. See more at https://github.com/torvalds/linux/blob/v6.0/Documentation/ABI/testing/sysfs-bus-pci#L344-L355\n",
      "2023-10-12 12:18:34.012390: I tensorflow/compiler/xla/stream_executor/cuda/cuda_gpu_executor.cc:995] successful NUMA node read from SysFS had negative value (-1), but there must be at least one NUMA node, so returning NUMA node zero. See more at https://github.com/torvalds/linux/blob/v6.0/Documentation/ABI/testing/sysfs-bus-pci#L344-L355\n",
      "2023-10-12 12:18:34.012576: I tensorflow/compiler/xla/stream_executor/cuda/cuda_gpu_executor.cc:995] successful NUMA node read from SysFS had negative value (-1), but there must be at least one NUMA node, so returning NUMA node zero. See more at https://github.com/torvalds/linux/blob/v6.0/Documentation/ABI/testing/sysfs-bus-pci#L344-L355\n",
      "2023-10-12 12:18:34.769886: I tensorflow/compiler/xla/stream_executor/cuda/cuda_gpu_executor.cc:995] successful NUMA node read from SysFS had negative value (-1), but there must be at least one NUMA node, so returning NUMA node zero. See more at https://github.com/torvalds/linux/blob/v6.0/Documentation/ABI/testing/sysfs-bus-pci#L344-L355\n",
      "2023-10-12 12:18:34.770090: I tensorflow/compiler/xla/stream_executor/cuda/cuda_gpu_executor.cc:995] successful NUMA node read from SysFS had negative value (-1), but there must be at least one NUMA node, so returning NUMA node zero. See more at https://github.com/torvalds/linux/blob/v6.0/Documentation/ABI/testing/sysfs-bus-pci#L344-L355\n",
      "2023-10-12 12:18:34.770260: I tensorflow/compiler/xla/stream_executor/cuda/cuda_gpu_executor.cc:995] successful NUMA node read from SysFS had negative value (-1), but there must be at least one NUMA node, so returning NUMA node zero. See more at https://github.com/torvalds/linux/blob/v6.0/Documentation/ABI/testing/sysfs-bus-pci#L344-L355\n",
      "2023-10-12 12:18:34.770437: I tensorflow/core/common_runtime/gpu/gpu_device.cc:1639] Created device /job:localhost/replica:0/task:0/device:GPU:0 with 4121 MB memory:  -> device: 0, name: NVIDIA GeForce RTX 3060 Laptop GPU, pci bus id: 0000:01:00.0, compute capability: 8.6\n"
     ]
    }
   ],
   "source": [
    "from keras.layers import Dense, Activation, Dropout, Flatten, Conv2D, MaxPooling2D\n",
    "\n",
    "# 5 convolutional layers\n",
    "model = Sequential()\n",
    "\n",
    "# 1st Convolutional Layer\n",
    "model.add(Conv2D(filters=96, input_shape=(227,227,3), kernel_size=(11,11), strides=(4,4), padding='valid'))\n",
    "model.add(Activation('relu'))\n",
    "# Max Pooling\n",
    "model.add(MaxPooling2D(pool_size=(2,2), strides=(2,2), padding='valid'))\n",
    "\n",
    "# 2nd Convolutional Layer\n",
    "model.add(Conv2D(filters=256, kernel_size=(11,11), strides=(1,1), padding='valid'))\n",
    "model.add(Activation('relu'))\n",
    "# Max Pooling\n",
    "model.add(MaxPooling2D(pool_size=(2,2), strides=(2,2), padding='valid'))\n",
    "\n",
    "# 3rd Convolutional Layer\n",
    "model.add(Conv2D(filters=384, kernel_size=(3,3), strides=(1,1), padding='valid'))\n",
    "model.add(Activation('relu'))\n",
    "\n",
    "# 4th Convolutional Layer\n",
    "model.add(Conv2D(filters=384, kernel_size=(3,3), strides=(1,1), padding='valid'))\n",
    "model.add(Activation('relu'))\n",
    "\n",
    "# 5th Convolutional Layer\n",
    "model.add(Conv2D(filters=256, kernel_size=(3,3), strides=(1,1), padding='valid'))\n",
    "model.add(Activation('relu'))\n",
    "# Max Pooling\n",
    "model.add(MaxPooling2D(pool_size=(2,2), strides=(2,2), padding='valid'))\n",
    "\n",
    "# Passing it to a Fully Connected layer\n",
    "model.add(Flatten())\n",
    "# 1st Fully Connected Layer\n",
    "model.add(Dense(4096, input_shape=(224*224*3,)))\n",
    "model.add(Activation('relu'))\n",
    "# Add Dropout to prevent overfitting\n",
    "model.add(Dropout(0.5))\n",
    "\n",
    "# 2nd Fully Connected Layer\n",
    "model.add(Dense(4096))\n",
    "model.add(Activation('relu'))\n",
    "# Add Dropout\n",
    "model.add(Dropout(0.5))\n",
    "\n",
    "# 3rd Fully Connected Layer\n",
    "model.add(Dense(1000))\n",
    "model.add(Activation('relu'))\n",
    "# Add Dropout\n",
    "model.add(Dropout(0.5))\n",
    "\n",
    "# Output Layer\n",
    "model.add(Dense(7))\n",
    "model.add(Activation('softmax'))"
   ]
  },
  {
   "cell_type": "code",
   "execution_count": 7,
   "id": "8bcd6a2f",
   "metadata": {},
   "outputs": [],
   "source": [
    "#compile the model\n",
    "model.compile(optimizer='adam',\n",
    "              loss=tf.keras.losses.CategoricalCrossentropy(from_logits=False),\n",
    "              metrics=['accuracy'])"
   ]
  },
  {
   "cell_type": "code",
   "execution_count": 8,
   "id": "a44e4c14",
   "metadata": {},
   "outputs": [
    {
     "name": "stdout",
     "output_type": "stream",
     "text": [
      "Model: \"sequential\"\n",
      "_________________________________________________________________\n",
      " Layer (type)                Output Shape              Param #   \n",
      "=================================================================\n",
      " conv2d (Conv2D)             (None, 55, 55, 96)        34944     \n",
      "                                                                 \n",
      " activation (Activation)     (None, 55, 55, 96)        0         \n",
      "                                                                 \n",
      " max_pooling2d (MaxPooling2  (None, 27, 27, 96)        0         \n",
      " D)                                                              \n",
      "                                                                 \n",
      " conv2d_1 (Conv2D)           (None, 17, 17, 256)       2973952   \n",
      "                                                                 \n",
      " activation_1 (Activation)   (None, 17, 17, 256)       0         \n",
      "                                                                 \n",
      " max_pooling2d_1 (MaxPoolin  (None, 8, 8, 256)         0         \n",
      " g2D)                                                            \n",
      "                                                                 \n",
      " conv2d_2 (Conv2D)           (None, 6, 6, 384)         885120    \n",
      "                                                                 \n",
      " activation_2 (Activation)   (None, 6, 6, 384)         0         \n",
      "                                                                 \n",
      " conv2d_3 (Conv2D)           (None, 4, 4, 384)         1327488   \n",
      "                                                                 \n",
      " activation_3 (Activation)   (None, 4, 4, 384)         0         \n",
      "                                                                 \n",
      " conv2d_4 (Conv2D)           (None, 2, 2, 256)         884992    \n",
      "                                                                 \n",
      " activation_4 (Activation)   (None, 2, 2, 256)         0         \n",
      "                                                                 \n",
      " max_pooling2d_2 (MaxPoolin  (None, 1, 1, 256)         0         \n",
      " g2D)                                                            \n",
      "                                                                 \n",
      " flatten (Flatten)           (None, 256)               0         \n",
      "                                                                 \n",
      " dense (Dense)               (None, 4096)              1052672   \n",
      "                                                                 \n",
      " activation_5 (Activation)   (None, 4096)              0         \n",
      "                                                                 \n",
      " dropout (Dropout)           (None, 4096)              0         \n",
      "                                                                 \n",
      " dense_1 (Dense)             (None, 4096)              16781312  \n",
      "                                                                 \n",
      " activation_6 (Activation)   (None, 4096)              0         \n",
      "                                                                 \n",
      " dropout_1 (Dropout)         (None, 4096)              0         \n",
      "                                                                 \n",
      " dense_2 (Dense)             (None, 1000)              4097000   \n",
      "                                                                 \n",
      " activation_7 (Activation)   (None, 1000)              0         \n",
      "                                                                 \n",
      " dropout_2 (Dropout)         (None, 1000)              0         \n",
      "                                                                 \n",
      " dense_3 (Dense)             (None, 7)                 7007      \n",
      "                                                                 \n",
      " activation_8 (Activation)   (None, 7)                 0         \n",
      "                                                                 \n",
      "=================================================================\n",
      "Total params: 28044487 (106.98 MB)\n",
      "Trainable params: 28044487 (106.98 MB)\n",
      "Non-trainable params: 0 (0.00 Byte)\n",
      "_________________________________________________________________\n"
     ]
    }
   ],
   "source": [
    "#see the layers!\n",
    "model.summary()"
   ]
  },
  {
   "cell_type": "code",
   "execution_count": 9,
   "id": "d63306ca",
   "metadata": {},
   "outputs": [],
   "source": [
    "#set training parameters\n",
    "from keras import backend as K\n",
    "K.set_value(model.optimizer.learning_rate, 0.0001)"
   ]
  },
  {
   "cell_type": "code",
   "execution_count": 10,
   "id": "fd074d01",
   "metadata": {},
   "outputs": [
    {
     "name": "stdout",
     "output_type": "stream",
     "text": [
      "Epoch 1/20\n"
     ]
    },
    {
     "name": "stderr",
     "output_type": "stream",
     "text": [
      "2023-10-09 09:22:27.392565: I tensorflow/compiler/xla/stream_executor/cuda/cuda_dnn.cc:432] Loaded cuDNN version 8902\n",
      "2023-10-09 09:22:28.204058: I tensorflow/compiler/xla/stream_executor/cuda/cuda_blas.cc:606] TensorFloat-32 will be used for the matrix multiplication. This will only be logged once.\n",
      "2023-10-09 09:22:28.206958: I tensorflow/compiler/xla/service/service.cc:168] XLA service 0x7fda0e82d860 initialized for platform CUDA (this does not guarantee that XLA will be used). Devices:\n",
      "2023-10-09 09:22:28.206979: I tensorflow/compiler/xla/service/service.cc:176]   StreamExecutor device (0): NVIDIA GeForce RTX 3060 Laptop GPU, Compute Capability 8.6\n",
      "2023-10-09 09:22:28.211261: I tensorflow/compiler/mlir/tensorflow/utils/dump_mlir_util.cc:255] disabling MLIR crash reproducer, set env var `MLIR_CRASH_REPRODUCER_DIRECTORY` to enable.\n",
      "2023-10-09 09:22:28.317223: I ./tensorflow/compiler/jit/device_compiler.h:186] Compiled cluster using XLA!  This line is logged at most once for the lifetime of the process.\n"
     ]
    },
    {
     "name": "stdout",
     "output_type": "stream",
     "text": [
      "214/214 [==============================] - ETA: 0s - loss: 1.9175 - accuracy: 0.1518"
     ]
    },
    {
     "name": "stderr",
     "output_type": "stream",
     "text": [
      "2023-10-09 09:23:20.962970: W tensorflow/tsl/framework/cpu_allocator_impl.cc:83] Allocation of 4026531840 exceeds 10% of free system memory.\n",
      "2023-10-09 09:23:22.177080: W tensorflow/tsl/framework/cpu_allocator_impl.cc:83] Allocation of 983040000 exceeds 10% of free system memory.\n"
     ]
    },
    {
     "name": "stdout",
     "output_type": "stream",
     "text": [
      "214/214 [==============================] - 57s 226ms/step - loss: 1.9175 - accuracy: 0.1518 - val_loss: 1.8895 - val_accuracy: 0.2789\n",
      "Epoch 2/20\n",
      "214/214 [==============================] - ETA: 0s - loss: 1.7310 - accuracy: 0.3072"
     ]
    },
    {
     "name": "stderr",
     "output_type": "stream",
     "text": [
      "2023-10-09 09:24:07.454979: W tensorflow/tsl/framework/cpu_allocator_impl.cc:83] Allocation of 4026531840 exceeds 10% of free system memory.\n",
      "2023-10-09 09:24:08.656346: W tensorflow/tsl/framework/cpu_allocator_impl.cc:83] Allocation of 983040000 exceeds 10% of free system memory.\n"
     ]
    },
    {
     "name": "stdout",
     "output_type": "stream",
     "text": [
      "214/214 [==============================] - 46s 217ms/step - loss: 1.7310 - accuracy: 0.3072 - val_loss: 1.4708 - val_accuracy: 0.4172\n",
      "Epoch 3/20\n",
      "214/214 [==============================] - ETA: 0s - loss: 1.4254 - accuracy: 0.4495"
     ]
    },
    {
     "name": "stderr",
     "output_type": "stream",
     "text": [
      "2023-10-09 09:24:51.750442: W tensorflow/tsl/framework/cpu_allocator_impl.cc:83] Allocation of 4026531840 exceeds 10% of free system memory.\n"
     ]
    },
    {
     "name": "stdout",
     "output_type": "stream",
     "text": [
      "214/214 [==============================] - 44s 207ms/step - loss: 1.4254 - accuracy: 0.4495 - val_loss: 1.2478 - val_accuracy: 0.5214\n",
      "Epoch 4/20\n",
      "214/214 [==============================] - 45s 210ms/step - loss: 1.2022 - accuracy: 0.5469 - val_loss: 1.0807 - val_accuracy: 0.6098\n",
      "Epoch 5/20\n",
      "214/214 [==============================] - 47s 221ms/step - loss: 1.0992 - accuracy: 0.5935 - val_loss: 0.9927 - val_accuracy: 0.6502\n",
      "Epoch 6/20\n",
      "214/214 [==============================] - 49s 227ms/step - loss: 1.0101 - accuracy: 0.6355 - val_loss: 0.9771 - val_accuracy: 0.6484\n",
      "Epoch 7/20\n",
      "214/214 [==============================] - 49s 229ms/step - loss: 0.9505 - accuracy: 0.6606 - val_loss: 0.8557 - val_accuracy: 0.6981\n",
      "Epoch 8/20\n",
      "214/214 [==============================] - 45s 208ms/step - loss: 0.8832 - accuracy: 0.6835 - val_loss: 0.8148 - val_accuracy: 0.7102\n",
      "Epoch 9/20\n",
      "214/214 [==============================] - 48s 222ms/step - loss: 0.8215 - accuracy: 0.7063 - val_loss: 0.8484 - val_accuracy: 0.7127\n",
      "Epoch 10/20\n",
      "214/214 [==============================] - 46s 216ms/step - loss: 0.7815 - accuracy: 0.7224 - val_loss: 0.7853 - val_accuracy: 0.7230\n",
      "Epoch 11/20\n",
      "214/214 [==============================] - 48s 226ms/step - loss: 0.7386 - accuracy: 0.7350 - val_loss: 0.6625 - val_accuracy: 0.7656\n",
      "Epoch 12/20\n",
      "214/214 [==============================] - 49s 228ms/step - loss: 0.6827 - accuracy: 0.7566 - val_loss: 0.6401 - val_accuracy: 0.7821\n",
      "Epoch 13/20\n",
      "214/214 [==============================] - 46s 217ms/step - loss: 0.6495 - accuracy: 0.7712 - val_loss: 0.6178 - val_accuracy: 0.7852\n",
      "Epoch 14/20\n",
      "214/214 [==============================] - 47s 218ms/step - loss: 0.6183 - accuracy: 0.7817 - val_loss: 0.6199 - val_accuracy: 0.7963\n",
      "Epoch 15/20\n",
      "214/214 [==============================] - 45s 209ms/step - loss: 0.5958 - accuracy: 0.7924 - val_loss: 0.6289 - val_accuracy: 0.7911\n",
      "Epoch 16/20\n",
      "214/214 [==============================] - 47s 218ms/step - loss: 0.5721 - accuracy: 0.8018 - val_loss: 0.5364 - val_accuracy: 0.8259\n",
      "Epoch 17/20\n",
      "214/214 [==============================] - 48s 224ms/step - loss: 0.5344 - accuracy: 0.8167 - val_loss: 0.5270 - val_accuracy: 0.8218\n",
      "Epoch 18/20\n",
      "214/214 [==============================] - 45s 211ms/step - loss: 0.5036 - accuracy: 0.8278 - val_loss: 0.6152 - val_accuracy: 0.7932\n",
      "Epoch 19/20\n",
      "214/214 [==============================] - 45s 212ms/step - loss: 0.4805 - accuracy: 0.8355 - val_loss: 0.5039 - val_accuracy: 0.8373\n",
      "Epoch 20/20\n",
      "214/214 [==============================] - 46s 213ms/step - loss: 0.4736 - accuracy: 0.8418 - val_loss: 0.4943 - val_accuracy: 0.8384\n"
     ]
    }
   ],
   "source": [
    "#train the model, time to cook!\n",
    "\n",
    "\n",
    "#set up tensorboard\n",
    "import datetime\n",
    "log_dir = \"logs/fit/\" + datetime.datetime.now().strftime(\"%Y%m%d-%H%M%S\")\n",
    "tensorboard_callback = tf.keras.callbacks.TensorBoard(log_dir=log_dir, histogram_freq=1)\n",
    "\n",
    "epochs=20\n",
    "\n",
    "if mode == \"weights\":\n",
    "    print(\"Class weights enabled\")\n",
    "    history = model.fit(\n",
    "        train_generator,\n",
    "        epochs = epochs,\n",
    "        steps_per_epoch = train_generator.samples // batch_size,\n",
    "        validation_data = validation_generator,\n",
    "        validation_steps = validation_generator.samples // batch_size,\n",
    "        callbacks = [tensorboard_callback],\n",
    "        class_weight = class_weights_dict\n",
    "    )\n",
    "else:\n",
    "    history = model.fit(\n",
    "        train_generator,\n",
    "        epochs = epochs,\n",
    "        steps_per_epoch = train_generator.samples // batch_size,\n",
    "        validation_data = validation_generator,\n",
    "        validation_steps = validation_generator.samples // batch_size,\n",
    "        callbacks = [tensorboard_callback],\n",
    "    )"
   ]
  },
  {
   "cell_type": "markdown",
   "id": "5e98553c",
   "metadata": {},
   "source": [
    "# "
   ]
  },
  {
   "cell_type": "code",
   "execution_count": 11,
   "id": "461ad273",
   "metadata": {},
   "outputs": [
    {
     "data": {
      "image/png": "[encoded data removed]",
      "text/plain": [
       "<Figure size 720x360 with 2 Axes>"
      ]
     },
     "metadata": {
      "needs_background": "light"
     },
     "output_type": "display_data"
    }
   ],
   "source": [
    "#visualize training results\n",
    "acc = history.history['accuracy']\n",
    "val_acc = history.history['val_accuracy']\n",
    "\n",
    "loss = history.history['loss']\n",
    "val_loss = history.history['val_loss']\n",
    "\n",
    "epochs_range = range(epochs)\n",
    "\n",
    "plt_size = 10\n",
    "\n",
    "plt.figure(figsize=(plt_size, plt_size/2))\n",
    "plt.subplot(1, 2, 1)\n",
    "plt.plot(epochs_range, acc, label='Training Accuracy')\n",
    "plt.plot(epochs_range, val_acc, label='Validation Accuracy')\n",
    "plt.legend(loc='lower right')\n",
    "plt.title('Accuracy')\n",
    "\n",
    "plt.subplot(1, 2, 2)\n",
    "plt.plot(epochs_range, loss, label='Training Loss')\n",
    "plt.plot(epochs_range, val_loss, label='Validation Loss')\n",
    "plt.legend(loc='upper right')\n",
    "plt.title('Loss')\n",
    "plt.show()"
   ]
  },
  {
   "cell_type": "markdown",
   "id": "885a0cb9",
   "metadata": {},
   "source": [
    "## Part 3/3: Evaluation and Predictions"
   ]
  },
  {
   "cell_type": "code",
   "execution_count": 12,
   "id": "68375a9e",
   "metadata": {},
   "outputs": [
    {
     "name": "stdout",
     "output_type": "stream",
     "text": [
      "Validation Loss: 0.49613088369369507\n",
      "Validation Accuracy: 0.8380271196365356\n",
      "Min Validation Loss: 0.49431055784225464\n",
      "Max Validation Accuracy: 0.838443398475647\n"
     ]
    }
   ],
   "source": [
    "# evaluate the accuracy\n",
    "score = model.evaluate(validation_generator, verbose=0)\n",
    "print(\"Validation Loss: \" + str(score[0]))\n",
    "print(\"Validation Accuracy: \" + str(score[1]))\n",
    "\n",
    "print(\"Min Validation Loss: \" + str(min(val_loss)))\n",
    "print(\"Max Validation Accuracy: \" + str(max(val_acc)))"
   ]
  },
  {
   "cell_type": "code",
   "execution_count": 13,
   "id": "ab18682c",
   "metadata": {},
   "outputs": [
    {
     "name": "stdout",
     "output_type": "stream",
     "text": [
      "54/54 [==============================] - 9s 158ms/step\n"
     ]
    }
   ],
   "source": [
    "# generate the confusion matrix\n",
    "\n",
    "# predict on the validation dataset\n",
    "validation_predictions = model.predict(validation_generator)\n",
    "# Convert predicted probabilities to class labels\n",
    "predicted_labels = np.argmax(validation_predictions, axis=1)\n",
    "\n",
    "from sklearn.metrics import confusion_matrix\n",
    "confusion = confusion_matrix(validation_generator.classes, predicted_labels)\n",
    "rel_confusion = confusion.astype('float') / confusion.sum(axis=1)[:, np.newaxis]\n"
   ]
  },
  {
   "cell_type": "code",
   "execution_count": 14,
   "id": "8b251709",
   "metadata": {},
   "outputs": [
    {
     "data": {
      "image/png": "[encoded data removed]",
      "text/plain": [
       "<Figure size 576x432 with 1 Axes>"
      ]
     },
     "metadata": {
      "needs_background": "light"
     },
     "output_type": "display_data"
    }
   ],
   "source": [
    "# visualize the confusion matrix\n",
    "import seaborn as sns\n",
    "import matplotlib.pyplot as plt\n",
    "\n",
    "plt.figure(figsize=(8, 6))\n",
    "sns.heatmap(rel_confusion, annot=True, fmt=\".2f\", cmap=\"Blues\", cbar=False,\n",
    "            xticklabels=class_labels, yticklabels=class_labels)\n",
    "plt.xlabel('Predicted')\n",
    "plt.ylabel('True')\n",
    "plt.title('Confusion Matrix')\n",
    "plt.show()"
   ]
  },
  {
   "cell_type": "code",
   "execution_count": 15,
   "id": "80ae8106",
   "metadata": {},
   "outputs": [
    {
     "name": "stdout",
     "output_type": "stream",
     "text": [
      "Class: bright dune\n",
      "Precision: 0.89\n",
      "Recall: 0.93\n",
      "------------\n",
      "Class: crater\n",
      "Precision: 0.79\n",
      "Recall: 0.64\n",
      "------------\n",
      "Class: dark dune\n",
      "Precision: 0.83\n",
      "Recall: 0.85\n",
      "------------\n",
      "Class: impact ejecta\n",
      "Precision: 0.82\n",
      "Recall: 0.93\n",
      "------------\n",
      "Class: slope streak\n",
      "Precision: 0.73\n",
      "Recall: 0.82\n",
      "------------\n",
      "Class: spider\n",
      "Precision: 0.92\n",
      "Recall: 0.93\n",
      "------------\n",
      "Class: swiss cheese\n",
      "Precision: 0.90\n",
      "Recall: 0.78\n",
      "------------\n",
      "Overall Precision: 0.8398336852337104\n",
      "Overall Recall: 0.8380271413979279\n",
      "Classification Report:\n",
      "                precision    recall  f1-score   support\n",
      "\n",
      "  bright dune       0.89      0.93      0.91       979\n",
      "       crater       0.79      0.64      0.71       979\n",
      "    dark dune       0.83      0.85      0.84       979\n",
      "impact ejecta       0.82      0.93      0.87       979\n",
      " slope streak       0.73      0.82      0.77       979\n",
      "       spider       0.92      0.93      0.92       979\n",
      " swiss cheese       0.90      0.78      0.84       979\n",
      "\n",
      "     accuracy                           0.84      6853\n",
      "    macro avg       0.84      0.84      0.84      6853\n",
      " weighted avg       0.84      0.84      0.84      6853\n",
      "\n"
     ]
    }
   ],
   "source": [
    "from sklearn.metrics import precision_score, recall_score, classification_report\n",
    "\n",
    "# Calculate precision and recall for each class\n",
    "precision_per_class = precision_score(validation_generator.classes, predicted_labels, average=None)\n",
    "recall_per_class = recall_score(validation_generator.classes, predicted_labels, average=None)\n",
    "\n",
    "# Display precision and recall for each class\n",
    "for i, class_label in enumerate(class_labels):\n",
    "    print(f\"Class: {class_label}\")\n",
    "    print(f\"Precision: {precision_per_class[i]:.2f}\")\n",
    "    print(f\"Recall: {recall_per_class[i]:.2f}\")\n",
    "    print(\"------------\")\n",
    "\n",
    "# Calculate and display overall precision and recall\n",
    "overall_precision = precision_score(validation_generator.classes, predicted_labels, average='weighted')\n",
    "overall_recall = recall_score(validation_generator.classes, predicted_labels, average='weighted')\n",
    "\n",
    "print(\"Overall Precision:\", overall_precision)\n",
    "print(\"Overall Recall:\", overall_recall)\n",
    "\n",
    "# Generate a classification report\n",
    "classification_rep = classification_report(validation_generator.classes, predicted_labels, target_names=class_labels)\n",
    "print(\"Classification Report:\\n\", classification_rep)"
   ]
  }
 ],
 "metadata": {
  "kernelspec": {
   "display_name": "Python 3 (ipykernel)",
   "language": "python",
   "name": "python3"
  },
  "language_info": {
   "codemirror_mode": {
    "name": "ipython",
    "version": 3
   },
   "file_extension": ".py",
   "mimetype": "text/x-python",
   "name": "python",
   "nbconvert_exporter": "python",
   "pygments_lexer": "ipython3",
   "version": "3.10.12"
  }
 },
 "nbformat": 4,
 "nbformat_minor": 5
}
