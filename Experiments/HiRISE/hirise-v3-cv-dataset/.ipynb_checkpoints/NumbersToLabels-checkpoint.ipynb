{
 "cells": [
  {
   "cell_type": "markdown",
   "id": "68ba48af",
   "metadata": {},
   "source": [
    "## This notebook converts the numeric class labels to text class labels"
   ]
  },
  {
   "cell_type": "code",
   "execution_count": 17,
   "id": "771f348b",
   "metadata": {},
   "outputs": [],
   "source": [
    "import csv\n",
    "\n",
    "label_file = \"labels-map-proj-v3.txt\"\n",
    "label_out_file = \"hirise-text-labels.txt\"\n",
    "class_map_file = \"landmarks_map-proj-v3_classmap.csv\""
   ]
  },
  {
   "cell_type": "code",
   "execution_count": 6,
   "id": "83f5dc52",
   "metadata": {},
   "outputs": [],
   "source": [
    "# create the class label dictionary\n",
    "labels = {}\n",
    "\n",
    "with open(class_map_file, newline='') as csvfile:\n",
    "    label_reader = csv.reader(csvfile, delimiter=',')\n",
    "    for row in label_reader:\n",
    "        labels[row[0]] = row[1]"
   ]
  },
  {
   "cell_type": "code",
   "execution_count": 19,
   "id": "c0075982",
   "metadata": {},
   "outputs": [],
   "source": [
    "# read in label rows\n",
    "label_list = []\n",
    "\n",
    "with open(label_file) as csvfile:\n",
    "    label_reader = csv.reader(csvfile, delimiter=' ')\n",
    "    for row in label_reader:\n",
    "        if row[1] == \"label\":\n",
    "            continue\n",
    "        label_list.append([row[0], row[1]])"
   ]
  },
  {
   "cell_type": "code",
   "execution_count": 25,
   "id": "0d612b80",
   "metadata": {},
   "outputs": [
    {
     "ename": "KeyError",
     "evalue": "'other'",
     "output_type": "error",
     "traceback": [
      "\u001b[0;31m---------------------------------------------------------------------------\u001b[0m",
      "\u001b[0;31mKeyError\u001b[0m                                  Traceback (most recent call last)",
      "\u001b[0;32m/tmp/ipykernel_4753/596188744.py\u001b[0m in \u001b[0;36m<module>\u001b[0;34m\u001b[0m\n\u001b[1;32m      1\u001b[0m \u001b[0;32mfor\u001b[0m \u001b[0mrow\u001b[0m \u001b[0;32min\u001b[0m \u001b[0mlabel_list\u001b[0m\u001b[0;34m:\u001b[0m\u001b[0;34m\u001b[0m\u001b[0;34m\u001b[0m\u001b[0m\n\u001b[0;32m----> 2\u001b[0;31m     \u001b[0mrow\u001b[0m\u001b[0;34m[\u001b[0m\u001b[0;36m1\u001b[0m\u001b[0;34m]\u001b[0m \u001b[0;34m=\u001b[0m \u001b[0mlabels\u001b[0m\u001b[0;34m[\u001b[0m\u001b[0mrow\u001b[0m\u001b[0;34m[\u001b[0m\u001b[0;36m1\u001b[0m\u001b[0;34m]\u001b[0m\u001b[0;34m]\u001b[0m\u001b[0;34m\u001b[0m\u001b[0;34m\u001b[0m\u001b[0m\n\u001b[0m\u001b[1;32m      3\u001b[0m \u001b[0mprint\u001b[0m\u001b[0;34m(\u001b[0m\u001b[0mlabel_list\u001b[0m\u001b[0;34m[\u001b[0m\u001b[0;36m1\u001b[0m\u001b[0;34m:\u001b[0m\u001b[0;36m10\u001b[0m\u001b[0;34m]\u001b[0m\u001b[0;34m)\u001b[0m\u001b[0;34m\u001b[0m\u001b[0;34m\u001b[0m\u001b[0m\n",
      "\u001b[0;31mKeyError\u001b[0m: 'other'"
     ]
    }
   ],
   "source": [
    "for row in label_list:\n",
    "    row[1] = labels[row[1]]"
   ]
  },
  {
   "cell_type": "code",
   "execution_count": 26,
   "id": "aeb350b5",
   "metadata": {},
   "outputs": [
    {
     "name": "stdout",
     "output_type": "stream",
     "text": [
      "[['ESP_011623_2100_RED-0069-r90.jpg', 'other'], ['ESP_011623_2100_RED-0069-r180.jpg', 'other'], ['ESP_011623_2100_RED-0069-r270.jpg', 'other'], ['ESP_011623_2100_RED-0069-fh.jpg', 'other'], ['ESP_011623_2100_RED-0069-fv.jpg', 'other'], ['ESP_011623_2100_RED-0069-brt.jpg', 'other'], ['ESP_014156_1865_RED-0062.jpg', 'other'], ['ESP_014156_1865_RED-0062-r90.jpg', 'other'], ['ESP_014156_1865_RED-0062-r180.jpg', 'other']]\n"
     ]
    }
   ],
   "source": [
    "print(label_list[1:10])"
   ]
  },
  {
   "cell_type": "code",
   "execution_count": null,
   "id": "f57cb6b9",
   "metadata": {},
   "outputs": [],
   "source": [
    "with open"
   ]
  }
 ],
 "metadata": {
  "kernelspec": {
   "display_name": "Python 3 (ipykernel)",
   "language": "python",
   "name": "python3"
  },
  "language_info": {
   "codemirror_mode": {
    "name": "ipython",
    "version": 3
   },
   "file_extension": ".py",
   "mimetype": "text/x-python",
   "name": "python",
   "nbconvert_exporter": "python",
   "pygments_lexer": "ipython3",
   "version": "3.10.12"
  }
 },
 "nbformat": 4,
 "nbformat_minor": 5
}
