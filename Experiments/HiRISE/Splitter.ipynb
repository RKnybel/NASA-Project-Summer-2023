{
 "cells": [
  {
   "cell_type": "markdown",
   "id": "8ebfc87d",
   "metadata": {},
   "source": [
    "# Dataset splitter\n",
    "Randomly splits samples according to a train/validation/test split\n"
   ]
  },
  {
   "cell_type": "code",
   "execution_count": 32,
   "id": "57fe2319",
   "metadata": {},
   "outputs": [],
   "source": [
    "from pathlib import Path\n",
    "from random import choices\n",
    "import os, random, shutil\n",
    "\n",
    "img_dataset = \"map-proj-v3-classdirs\"\n",
    "out_dir = \"hirise-split\"\n",
    "test_split = \n",
    "train_split = "
   ]
  },
  {
   "cell_type": "code",
   "execution_count": 33,
   "id": "d890d666",
   "metadata": {},
   "outputs": [
    {
     "name": "stdout",
     "output_type": "stream",
     "text": [
      "{'hirise-oversample/slope streak': 2330, 'hirise-oversample/dark dune': 1140, 'hirise-oversample/swiss cheese': 1147, 'hirise-oversample/spider': 475, 'hirise-oversample/crater': 4899, 'hirise-oversample/impact ejecta': 230, 'hirise-oversample/bright dune': 1749}\n"
     ]
    }
   ],
   "source": [
    "# calculate how many copies need to be made for each class\n",
    "import os\n",
    "classes = {}\n",
    "count = 0\n",
    "for root, dirs, files in os.walk(img_dataset):\n",
    "    count = 0\n",
    "    if root != img_dataset:\n",
    "        for path in os.scandir(root):\n",
    "            if path.is_file():\n",
    "                count += 1\n",
    "        classes[root] = count\n",
    "print(classes)"
   ]
  },
  {
   "cell_type": "code",
   "execution_count": 39,
   "id": "b58acdb1",
   "metadata": {},
   "outputs": [
    {
     "name": "stdout",
     "output_type": "stream",
     "text": [
      "4899\n"
     ]
    }
   ],
   "source": [
    "max_count = classes[max(classes, key=classes.get)]\n",
    "print(max_count)\n",
    "for cat, count in classes.items():\n",
    "    copy_num = 1\n",
    "    for i in range(count, max_count):\n",
    "        src = cat + \"/\" + random.choice(os.listdir(cat))\n",
    "        dst = cat + \"/copy_\" + str(copy_num) + \".jpg\"\n",
    "        copy_num += 1\n",
    "        shutil.copyfile(src, dst)\n",
    "    \n",
    "        "
   ]
  }
 ],
 "metadata": {
  "kernelspec": {
   "display_name": "Python 3 (ipykernel)",
   "language": "python",
   "name": "python3"
  },
  "language_info": {
   "codemirror_mode": {
    "name": "ipython",
    "version": 3
   },
   "file_extension": ".py",
   "mimetype": "text/x-python",
   "name": "python",
   "nbconvert_exporter": "python",
   "pygments_lexer": "ipython3",
   "version": "3.10.12"
  }
 },
 "nbformat": 4,
 "nbformat_minor": 5
}
